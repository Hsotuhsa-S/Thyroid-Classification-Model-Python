{
 "cells": [
  {
   "cell_type": "markdown",
   "id": "0d3211f2",
   "metadata": {},
   "source": [
    "# EDA and Cleanup Data\n",
    "\n",
    "- **Author:** Ashutosh Shirsat  \n",
    "- **Project:** Data Science/ML \n",
    "- **Objective:** Clean Data and perform EDA before feature selection and Model selection.  "
   ]
  },
  {
   "cell_type": "code",
   "execution_count": 1,
   "id": "31a7e598",
   "metadata": {},
   "outputs": [],
   "source": [
    "# ## 1. Import Libraries\n",
    "# %pip install --force-reinstall pandas\n",
    "\n",
    "import numpy as np\n",
    "import pandas as pd\n",
    "import warnings\n",
    "from scipy.stats import skew\n",
    "import seaborn as sns\n",
    "import matplotlib.pyplot as plt\n",
    "from scipy.stats import skew\n",
    "\n",
    "warnings.filterwarnings('ignore')  "
   ]
  },
  {
   "cell_type": "markdown",
   "id": "cc0ea34d",
   "metadata": {},
   "source": [
    "## 1. Load and clean Data\n",
    "\n",
    "This project uses thyroid data (originally from the UCI ML Repository).  \n",
    "We start by loading the data.\n",
    "Create Binary Outcome Variable.\n",
    "Standardizes category values (e.g., replacing “M” with “male” and “F” with “Female”, and converting “t”/“f” to Boolean values)."
   ]
  },
  {
   "cell_type": "code",
   "execution_count": 2,
   "id": "2a66e306",
   "metadata": {},
   "outputs": [
    {
     "data": {
      "application/vnd.microsoft.datawrangler.viewer.v0+json": {
       "columns": [
        {
         "name": "index",
         "rawType": "int64",
         "type": "integer"
        },
        {
         "name": "age",
         "rawType": "int64",
         "type": "integer"
        },
        {
         "name": "sex",
         "rawType": "object",
         "type": "string"
        },
        {
         "name": "on_thyroxine",
         "rawType": "object",
         "type": "string"
        },
        {
         "name": "query_on_thyroxine",
         "rawType": "object",
         "type": "string"
        },
        {
         "name": "on_antithyroid_meds",
         "rawType": "object",
         "type": "string"
        },
        {
         "name": "sick",
         "rawType": "object",
         "type": "string"
        },
        {
         "name": "pregnant",
         "rawType": "object",
         "type": "string"
        },
        {
         "name": "thyroid_surgery",
         "rawType": "object",
         "type": "string"
        },
        {
         "name": "I131_treatment",
         "rawType": "object",
         "type": "string"
        },
        {
         "name": "query_hypothyroid",
         "rawType": "object",
         "type": "string"
        },
        {
         "name": "query_hyperthyroid",
         "rawType": "object",
         "type": "string"
        },
        {
         "name": "lithium",
         "rawType": "object",
         "type": "string"
        },
        {
         "name": "goitre",
         "rawType": "object",
         "type": "string"
        },
        {
         "name": "tumor",
         "rawType": "object",
         "type": "string"
        },
        {
         "name": "hypopituitary",
         "rawType": "object",
         "type": "string"
        },
        {
         "name": "psych",
         "rawType": "object",
         "type": "string"
        },
        {
         "name": "TSH_measured",
         "rawType": "object",
         "type": "string"
        },
        {
         "name": "TSH",
         "rawType": "float64",
         "type": "float"
        },
        {
         "name": "T3_measured",
         "rawType": "object",
         "type": "string"
        },
        {
         "name": "T3",
         "rawType": "float64",
         "type": "float"
        },
        {
         "name": "TT4_measured",
         "rawType": "object",
         "type": "string"
        },
        {
         "name": "TT4",
         "rawType": "float64",
         "type": "float"
        },
        {
         "name": "T4U_measured",
         "rawType": "object",
         "type": "string"
        },
        {
         "name": "T4U",
         "rawType": "float64",
         "type": "float"
        },
        {
         "name": "FTI_measured",
         "rawType": "object",
         "type": "string"
        },
        {
         "name": "FTI",
         "rawType": "float64",
         "type": "float"
        },
        {
         "name": "TBG_measured",
         "rawType": "object",
         "type": "string"
        },
        {
         "name": "TBG",
         "rawType": "float64",
         "type": "float"
        },
        {
         "name": "referral_source",
         "rawType": "object",
         "type": "string"
        },
        {
         "name": "target",
         "rawType": "object",
         "type": "string"
        },
        {
         "name": "patient_id",
         "rawType": "int64",
         "type": "integer"
        }
       ],
       "ref": "6759da24-e939-4af5-99c3-a57f03c8edf6",
       "rows": [
        [
         "0",
         "29",
         "F",
         "f",
         "f",
         "f",
         "f",
         "f",
         "f",
         "f",
         "t",
         "f",
         "f",
         "f",
         "f",
         "f",
         "f",
         "t",
         "0.3",
         "f",
         null,
         "f",
         null,
         "f",
         null,
         "f",
         null,
         "f",
         null,
         "other",
         "-",
         "840801013"
        ],
        [
         "1",
         "29",
         "F",
         "f",
         "f",
         "f",
         "f",
         "f",
         "f",
         "f",
         "f",
         "f",
         "f",
         "f",
         "f",
         "f",
         "f",
         "t",
         "1.6",
         "t",
         "1.9",
         "t",
         "128.0",
         "f",
         null,
         "f",
         null,
         "f",
         null,
         "other",
         "-",
         "840801014"
        ],
        [
         "2",
         "41",
         "F",
         "f",
         "f",
         "f",
         "f",
         "f",
         "f",
         "f",
         "f",
         "t",
         "f",
         "f",
         "f",
         "f",
         "f",
         "f",
         null,
         "f",
         null,
         "f",
         null,
         "f",
         null,
         "f",
         null,
         "t",
         "11.0",
         "other",
         "-",
         "840801042"
        ],
        [
         "3",
         "36",
         "F",
         "f",
         "f",
         "f",
         "f",
         "f",
         "f",
         "f",
         "f",
         "f",
         "f",
         "f",
         "f",
         "f",
         "f",
         "f",
         null,
         "f",
         null,
         "f",
         null,
         "f",
         null,
         "f",
         null,
         "t",
         "26.0",
         "other",
         "-",
         "840803046"
        ],
        [
         "4",
         "32",
         "F",
         "f",
         "f",
         "f",
         "f",
         "f",
         "f",
         "f",
         "f",
         "f",
         "f",
         "f",
         "f",
         "f",
         "f",
         "f",
         null,
         "f",
         null,
         "f",
         null,
         "f",
         null,
         "f",
         null,
         "t",
         "36.0",
         "other",
         "S",
         "840803047"
        ]
       ],
       "shape": {
        "columns": 31,
        "rows": 5
       }
      },
      "text/html": [
       "<div>\n",
       "<style scoped>\n",
       "    .dataframe tbody tr th:only-of-type {\n",
       "        vertical-align: middle;\n",
       "    }\n",
       "\n",
       "    .dataframe tbody tr th {\n",
       "        vertical-align: top;\n",
       "    }\n",
       "\n",
       "    .dataframe thead th {\n",
       "        text-align: right;\n",
       "    }\n",
       "</style>\n",
       "<table border=\"1\" class=\"dataframe\">\n",
       "  <thead>\n",
       "    <tr style=\"text-align: right;\">\n",
       "      <th></th>\n",
       "      <th>age</th>\n",
       "      <th>sex</th>\n",
       "      <th>on_thyroxine</th>\n",
       "      <th>query_on_thyroxine</th>\n",
       "      <th>on_antithyroid_meds</th>\n",
       "      <th>sick</th>\n",
       "      <th>pregnant</th>\n",
       "      <th>thyroid_surgery</th>\n",
       "      <th>I131_treatment</th>\n",
       "      <th>query_hypothyroid</th>\n",
       "      <th>...</th>\n",
       "      <th>TT4</th>\n",
       "      <th>T4U_measured</th>\n",
       "      <th>T4U</th>\n",
       "      <th>FTI_measured</th>\n",
       "      <th>FTI</th>\n",
       "      <th>TBG_measured</th>\n",
       "      <th>TBG</th>\n",
       "      <th>referral_source</th>\n",
       "      <th>target</th>\n",
       "      <th>patient_id</th>\n",
       "    </tr>\n",
       "  </thead>\n",
       "  <tbody>\n",
       "    <tr>\n",
       "      <th>0</th>\n",
       "      <td>29</td>\n",
       "      <td>F</td>\n",
       "      <td>f</td>\n",
       "      <td>f</td>\n",
       "      <td>f</td>\n",
       "      <td>f</td>\n",
       "      <td>f</td>\n",
       "      <td>f</td>\n",
       "      <td>f</td>\n",
       "      <td>t</td>\n",
       "      <td>...</td>\n",
       "      <td>NaN</td>\n",
       "      <td>f</td>\n",
       "      <td>NaN</td>\n",
       "      <td>f</td>\n",
       "      <td>NaN</td>\n",
       "      <td>f</td>\n",
       "      <td>NaN</td>\n",
       "      <td>other</td>\n",
       "      <td>-</td>\n",
       "      <td>840801013</td>\n",
       "    </tr>\n",
       "    <tr>\n",
       "      <th>1</th>\n",
       "      <td>29</td>\n",
       "      <td>F</td>\n",
       "      <td>f</td>\n",
       "      <td>f</td>\n",
       "      <td>f</td>\n",
       "      <td>f</td>\n",
       "      <td>f</td>\n",
       "      <td>f</td>\n",
       "      <td>f</td>\n",
       "      <td>f</td>\n",
       "      <td>...</td>\n",
       "      <td>128.0</td>\n",
       "      <td>f</td>\n",
       "      <td>NaN</td>\n",
       "      <td>f</td>\n",
       "      <td>NaN</td>\n",
       "      <td>f</td>\n",
       "      <td>NaN</td>\n",
       "      <td>other</td>\n",
       "      <td>-</td>\n",
       "      <td>840801014</td>\n",
       "    </tr>\n",
       "    <tr>\n",
       "      <th>2</th>\n",
       "      <td>41</td>\n",
       "      <td>F</td>\n",
       "      <td>f</td>\n",
       "      <td>f</td>\n",
       "      <td>f</td>\n",
       "      <td>f</td>\n",
       "      <td>f</td>\n",
       "      <td>f</td>\n",
       "      <td>f</td>\n",
       "      <td>f</td>\n",
       "      <td>...</td>\n",
       "      <td>NaN</td>\n",
       "      <td>f</td>\n",
       "      <td>NaN</td>\n",
       "      <td>f</td>\n",
       "      <td>NaN</td>\n",
       "      <td>t</td>\n",
       "      <td>11.0</td>\n",
       "      <td>other</td>\n",
       "      <td>-</td>\n",
       "      <td>840801042</td>\n",
       "    </tr>\n",
       "    <tr>\n",
       "      <th>3</th>\n",
       "      <td>36</td>\n",
       "      <td>F</td>\n",
       "      <td>f</td>\n",
       "      <td>f</td>\n",
       "      <td>f</td>\n",
       "      <td>f</td>\n",
       "      <td>f</td>\n",
       "      <td>f</td>\n",
       "      <td>f</td>\n",
       "      <td>f</td>\n",
       "      <td>...</td>\n",
       "      <td>NaN</td>\n",
       "      <td>f</td>\n",
       "      <td>NaN</td>\n",
       "      <td>f</td>\n",
       "      <td>NaN</td>\n",
       "      <td>t</td>\n",
       "      <td>26.0</td>\n",
       "      <td>other</td>\n",
       "      <td>-</td>\n",
       "      <td>840803046</td>\n",
       "    </tr>\n",
       "    <tr>\n",
       "      <th>4</th>\n",
       "      <td>32</td>\n",
       "      <td>F</td>\n",
       "      <td>f</td>\n",
       "      <td>f</td>\n",
       "      <td>f</td>\n",
       "      <td>f</td>\n",
       "      <td>f</td>\n",
       "      <td>f</td>\n",
       "      <td>f</td>\n",
       "      <td>f</td>\n",
       "      <td>...</td>\n",
       "      <td>NaN</td>\n",
       "      <td>f</td>\n",
       "      <td>NaN</td>\n",
       "      <td>f</td>\n",
       "      <td>NaN</td>\n",
       "      <td>t</td>\n",
       "      <td>36.0</td>\n",
       "      <td>other</td>\n",
       "      <td>S</td>\n",
       "      <td>840803047</td>\n",
       "    </tr>\n",
       "  </tbody>\n",
       "</table>\n",
       "<p>5 rows × 31 columns</p>\n",
       "</div>"
      ],
      "text/plain": [
       "   age sex on_thyroxine query_on_thyroxine on_antithyroid_meds sick pregnant  \\\n",
       "0   29   F            f                  f                   f    f        f   \n",
       "1   29   F            f                  f                   f    f        f   \n",
       "2   41   F            f                  f                   f    f        f   \n",
       "3   36   F            f                  f                   f    f        f   \n",
       "4   32   F            f                  f                   f    f        f   \n",
       "\n",
       "  thyroid_surgery I131_treatment query_hypothyroid  ...    TT4 T4U_measured  \\\n",
       "0               f              f                 t  ...    NaN            f   \n",
       "1               f              f                 f  ...  128.0            f   \n",
       "2               f              f                 f  ...    NaN            f   \n",
       "3               f              f                 f  ...    NaN            f   \n",
       "4               f              f                 f  ...    NaN            f   \n",
       "\n",
       "  T4U FTI_measured FTI TBG_measured   TBG  referral_source target  patient_id  \n",
       "0 NaN            f NaN            f   NaN            other      -   840801013  \n",
       "1 NaN            f NaN            f   NaN            other      -   840801014  \n",
       "2 NaN            f NaN            t  11.0            other      -   840801042  \n",
       "3 NaN            f NaN            t  26.0            other      -   840803046  \n",
       "4 NaN            f NaN            t  36.0            other      S   840803047  \n",
       "\n",
       "[5 rows x 31 columns]"
      ]
     },
     "execution_count": 2,
     "metadata": {},
     "output_type": "execute_result"
    }
   ],
   "source": [
    "# Load the main data\n",
    "data_path = 'data/thyroidSourceData.csv'  # Update path as needed\n",
    "rawThyroidData = pd.read_csv(data_path)\n",
    "\n",
    "# Identify categorical columns\n",
    "categorical_cols = rawThyroidData.select_dtypes(include=['object', 'category', 'bool']).columns\n",
    "\n",
    "# Display the first 5 rows\n",
    "rawThyroidData.head()"
   ]
  },
  {
   "cell_type": "code",
   "execution_count": 3,
   "id": "0f86c0b0",
   "metadata": {},
   "outputs": [
    {
     "data": {
      "application/vnd.microsoft.datawrangler.viewer.v0+json": {
       "columns": [
        {
         "name": "index",
         "rawType": "int64",
         "type": "integer"
        },
        {
         "name": "age",
         "rawType": "int64",
         "type": "integer"
        },
        {
         "name": "sex",
         "rawType": "object",
         "type": "string"
        },
        {
         "name": "on_thyroxine",
         "rawType": "bool",
         "type": "boolean"
        },
        {
         "name": "query_on_thyroxine",
         "rawType": "bool",
         "type": "boolean"
        },
        {
         "name": "on_antithyroid_meds",
         "rawType": "bool",
         "type": "boolean"
        },
        {
         "name": "sick",
         "rawType": "bool",
         "type": "boolean"
        },
        {
         "name": "pregnant",
         "rawType": "bool",
         "type": "boolean"
        },
        {
         "name": "thyroid_surgery",
         "rawType": "bool",
         "type": "boolean"
        },
        {
         "name": "I131_treatment",
         "rawType": "bool",
         "type": "boolean"
        },
        {
         "name": "query_hypothyroid",
         "rawType": "bool",
         "type": "boolean"
        },
        {
         "name": "query_hyperthyroid",
         "rawType": "bool",
         "type": "boolean"
        },
        {
         "name": "lithium",
         "rawType": "bool",
         "type": "boolean"
        },
        {
         "name": "goitre",
         "rawType": "bool",
         "type": "boolean"
        },
        {
         "name": "tumor",
         "rawType": "bool",
         "type": "boolean"
        },
        {
         "name": "hypopituitary",
         "rawType": "bool",
         "type": "boolean"
        },
        {
         "name": "psych",
         "rawType": "bool",
         "type": "boolean"
        },
        {
         "name": "TSH_measured",
         "rawType": "bool",
         "type": "boolean"
        },
        {
         "name": "TSH",
         "rawType": "float64",
         "type": "float"
        },
        {
         "name": "T3_measured",
         "rawType": "bool",
         "type": "boolean"
        },
        {
         "name": "T3",
         "rawType": "float64",
         "type": "float"
        },
        {
         "name": "TT4_measured",
         "rawType": "bool",
         "type": "boolean"
        },
        {
         "name": "TT4",
         "rawType": "float64",
         "type": "float"
        },
        {
         "name": "T4U_measured",
         "rawType": "bool",
         "type": "boolean"
        },
        {
         "name": "T4U",
         "rawType": "float64",
         "type": "float"
        },
        {
         "name": "FTI_measured",
         "rawType": "bool",
         "type": "boolean"
        },
        {
         "name": "FTI",
         "rawType": "float64",
         "type": "float"
        },
        {
         "name": "TBG_measured",
         "rawType": "bool",
         "type": "boolean"
        },
        {
         "name": "TBG",
         "rawType": "float64",
         "type": "float"
        },
        {
         "name": "referral_source",
         "rawType": "object",
         "type": "string"
        },
        {
         "name": "target",
         "rawType": "object",
         "type": "string"
        },
        {
         "name": "patient_id",
         "rawType": "int64",
         "type": "integer"
        }
       ],
       "ref": "54a42b68-aaa4-4be7-bdf2-e179ab960725",
       "rows": [
        [
         "0",
         "29",
         "Female",
         "False",
         "False",
         "False",
         "False",
         "False",
         "False",
         "False",
         "True",
         "False",
         "False",
         "False",
         "False",
         "False",
         "False",
         "True",
         "0.3",
         "False",
         null,
         "False",
         null,
         "False",
         null,
         "False",
         null,
         "False",
         null,
         "other",
         "-",
         "840801013"
        ],
        [
         "1",
         "29",
         "Female",
         "False",
         "False",
         "False",
         "False",
         "False",
         "False",
         "False",
         "False",
         "False",
         "False",
         "False",
         "False",
         "False",
         "False",
         "True",
         "1.6",
         "True",
         "1.9",
         "True",
         "128.0",
         "False",
         null,
         "False",
         null,
         "False",
         null,
         "other",
         "-",
         "840801014"
        ],
        [
         "2",
         "41",
         "Female",
         "False",
         "False",
         "False",
         "False",
         "False",
         "False",
         "False",
         "False",
         "True",
         "False",
         "False",
         "False",
         "False",
         "False",
         "False",
         null,
         "False",
         null,
         "False",
         null,
         "False",
         null,
         "False",
         null,
         "True",
         "11.0",
         "other",
         "-",
         "840801042"
        ],
        [
         "3",
         "36",
         "Female",
         "False",
         "False",
         "False",
         "False",
         "False",
         "False",
         "False",
         "False",
         "False",
         "False",
         "False",
         "False",
         "False",
         "False",
         "False",
         null,
         "False",
         null,
         "False",
         null,
         "False",
         null,
         "False",
         null,
         "True",
         "26.0",
         "other",
         "-",
         "840803046"
        ],
        [
         "4",
         "32",
         "Female",
         "False",
         "False",
         "False",
         "False",
         "False",
         "False",
         "False",
         "False",
         "False",
         "False",
         "False",
         "False",
         "False",
         "False",
         "False",
         null,
         "False",
         null,
         "False",
         null,
         "False",
         null,
         "False",
         null,
         "True",
         "36.0",
         "other",
         "S",
         "840803047"
        ]
       ],
       "shape": {
        "columns": 31,
        "rows": 5
       }
      },
      "text/html": [
       "<div>\n",
       "<style scoped>\n",
       "    .dataframe tbody tr th:only-of-type {\n",
       "        vertical-align: middle;\n",
       "    }\n",
       "\n",
       "    .dataframe tbody tr th {\n",
       "        vertical-align: top;\n",
       "    }\n",
       "\n",
       "    .dataframe thead th {\n",
       "        text-align: right;\n",
       "    }\n",
       "</style>\n",
       "<table border=\"1\" class=\"dataframe\">\n",
       "  <thead>\n",
       "    <tr style=\"text-align: right;\">\n",
       "      <th></th>\n",
       "      <th>age</th>\n",
       "      <th>sex</th>\n",
       "      <th>on_thyroxine</th>\n",
       "      <th>query_on_thyroxine</th>\n",
       "      <th>on_antithyroid_meds</th>\n",
       "      <th>sick</th>\n",
       "      <th>pregnant</th>\n",
       "      <th>thyroid_surgery</th>\n",
       "      <th>I131_treatment</th>\n",
       "      <th>query_hypothyroid</th>\n",
       "      <th>...</th>\n",
       "      <th>TT4</th>\n",
       "      <th>T4U_measured</th>\n",
       "      <th>T4U</th>\n",
       "      <th>FTI_measured</th>\n",
       "      <th>FTI</th>\n",
       "      <th>TBG_measured</th>\n",
       "      <th>TBG</th>\n",
       "      <th>referral_source</th>\n",
       "      <th>target</th>\n",
       "      <th>patient_id</th>\n",
       "    </tr>\n",
       "  </thead>\n",
       "  <tbody>\n",
       "    <tr>\n",
       "      <th>0</th>\n",
       "      <td>29</td>\n",
       "      <td>Female</td>\n",
       "      <td>False</td>\n",
       "      <td>False</td>\n",
       "      <td>False</td>\n",
       "      <td>False</td>\n",
       "      <td>False</td>\n",
       "      <td>False</td>\n",
       "      <td>False</td>\n",
       "      <td>True</td>\n",
       "      <td>...</td>\n",
       "      <td>NaN</td>\n",
       "      <td>False</td>\n",
       "      <td>NaN</td>\n",
       "      <td>False</td>\n",
       "      <td>NaN</td>\n",
       "      <td>False</td>\n",
       "      <td>NaN</td>\n",
       "      <td>other</td>\n",
       "      <td>-</td>\n",
       "      <td>840801013</td>\n",
       "    </tr>\n",
       "    <tr>\n",
       "      <th>1</th>\n",
       "      <td>29</td>\n",
       "      <td>Female</td>\n",
       "      <td>False</td>\n",
       "      <td>False</td>\n",
       "      <td>False</td>\n",
       "      <td>False</td>\n",
       "      <td>False</td>\n",
       "      <td>False</td>\n",
       "      <td>False</td>\n",
       "      <td>False</td>\n",
       "      <td>...</td>\n",
       "      <td>128.0</td>\n",
       "      <td>False</td>\n",
       "      <td>NaN</td>\n",
       "      <td>False</td>\n",
       "      <td>NaN</td>\n",
       "      <td>False</td>\n",
       "      <td>NaN</td>\n",
       "      <td>other</td>\n",
       "      <td>-</td>\n",
       "      <td>840801014</td>\n",
       "    </tr>\n",
       "    <tr>\n",
       "      <th>2</th>\n",
       "      <td>41</td>\n",
       "      <td>Female</td>\n",
       "      <td>False</td>\n",
       "      <td>False</td>\n",
       "      <td>False</td>\n",
       "      <td>False</td>\n",
       "      <td>False</td>\n",
       "      <td>False</td>\n",
       "      <td>False</td>\n",
       "      <td>False</td>\n",
       "      <td>...</td>\n",
       "      <td>NaN</td>\n",
       "      <td>False</td>\n",
       "      <td>NaN</td>\n",
       "      <td>False</td>\n",
       "      <td>NaN</td>\n",
       "      <td>True</td>\n",
       "      <td>11.0</td>\n",
       "      <td>other</td>\n",
       "      <td>-</td>\n",
       "      <td>840801042</td>\n",
       "    </tr>\n",
       "    <tr>\n",
       "      <th>3</th>\n",
       "      <td>36</td>\n",
       "      <td>Female</td>\n",
       "      <td>False</td>\n",
       "      <td>False</td>\n",
       "      <td>False</td>\n",
       "      <td>False</td>\n",
       "      <td>False</td>\n",
       "      <td>False</td>\n",
       "      <td>False</td>\n",
       "      <td>False</td>\n",
       "      <td>...</td>\n",
       "      <td>NaN</td>\n",
       "      <td>False</td>\n",
       "      <td>NaN</td>\n",
       "      <td>False</td>\n",
       "      <td>NaN</td>\n",
       "      <td>True</td>\n",
       "      <td>26.0</td>\n",
       "      <td>other</td>\n",
       "      <td>-</td>\n",
       "      <td>840803046</td>\n",
       "    </tr>\n",
       "    <tr>\n",
       "      <th>4</th>\n",
       "      <td>32</td>\n",
       "      <td>Female</td>\n",
       "      <td>False</td>\n",
       "      <td>False</td>\n",
       "      <td>False</td>\n",
       "      <td>False</td>\n",
       "      <td>False</td>\n",
       "      <td>False</td>\n",
       "      <td>False</td>\n",
       "      <td>False</td>\n",
       "      <td>...</td>\n",
       "      <td>NaN</td>\n",
       "      <td>False</td>\n",
       "      <td>NaN</td>\n",
       "      <td>False</td>\n",
       "      <td>NaN</td>\n",
       "      <td>True</td>\n",
       "      <td>36.0</td>\n",
       "      <td>other</td>\n",
       "      <td>S</td>\n",
       "      <td>840803047</td>\n",
       "    </tr>\n",
       "  </tbody>\n",
       "</table>\n",
       "<p>5 rows × 31 columns</p>\n",
       "</div>"
      ],
      "text/plain": [
       "   age     sex  on_thyroxine  query_on_thyroxine  on_antithyroid_meds   sick  \\\n",
       "0   29  Female         False               False                False  False   \n",
       "1   29  Female         False               False                False  False   \n",
       "2   41  Female         False               False                False  False   \n",
       "3   36  Female         False               False                False  False   \n",
       "4   32  Female         False               False                False  False   \n",
       "\n",
       "   pregnant  thyroid_surgery  I131_treatment  query_hypothyroid  ...    TT4  \\\n",
       "0     False            False           False               True  ...    NaN   \n",
       "1     False            False           False              False  ...  128.0   \n",
       "2     False            False           False              False  ...    NaN   \n",
       "3     False            False           False              False  ...    NaN   \n",
       "4     False            False           False              False  ...    NaN   \n",
       "\n",
       "   T4U_measured  T4U  FTI_measured  FTI  TBG_measured   TBG  referral_source  \\\n",
       "0         False  NaN         False  NaN         False   NaN            other   \n",
       "1         False  NaN         False  NaN         False   NaN            other   \n",
       "2         False  NaN         False  NaN          True  11.0            other   \n",
       "3         False  NaN         False  NaN          True  26.0            other   \n",
       "4         False  NaN         False  NaN          True  36.0            other   \n",
       "\n",
       "   target  patient_id  \n",
       "0       -   840801013  \n",
       "1       -   840801014  \n",
       "2       -   840801042  \n",
       "3       -   840803046  \n",
       "4       S   840803047  \n",
       "\n",
       "[5 rows x 31 columns]"
      ]
     },
     "execution_count": 3,
     "metadata": {},
     "output_type": "execute_result"
    }
   ],
   "source": [
    "\n",
    "# Update 'sex' column: 'M' -> 'male', 'F' -> 'Female'\n",
    "rawThyroidData['sex'] = rawThyroidData['sex'].replace({'M': 'male', 'F': 'Female'})\n",
    "\n",
    "# List of columns to update (exclude 'thyroid' and 'referral_source')\n",
    "cols_to_update = [col for col in categorical_cols if col not in ['referral_source', 'sex']]\n",
    "\n",
    "# Replace 't'/'f' with True/False in the selected columns\n",
    "rawThyroidData[cols_to_update] = rawThyroidData[cols_to_update].replace({'t': True, 'f': False})\n",
    "\n",
    "# Display the first few rows to verify changes\n",
    "rawThyroidData.head()"
   ]
  },
  {
   "cell_type": "markdown",
   "id": "c79d98ad",
   "metadata": {},
   "source": [
    "### Create Binary Outcome Variable\n",
    "\n",
    "The original 'target' variable has 32 classes.\n",
    "We create a new binary variable `thyroid`:  \n",
    "- A value of TRUE indicates the presence of the disease if 'target' had a disease code from 'A' to 'H'; \n",
    "- otherwise, the value is FALSE, indicating the absence of the disease. "
   ]
  },
  {
   "cell_type": "code",
   "execution_count": 4,
   "id": "7b1280f1",
   "metadata": {},
   "outputs": [
    {
     "data": {
      "application/vnd.microsoft.datawrangler.viewer.v0+json": {
       "columns": [
        {
         "name": "thyroid",
         "rawType": "object",
         "type": "string"
        },
        {
         "name": "count",
         "rawType": "int64",
         "type": "integer"
        }
       ],
       "ref": "e6a8a30a-60cb-4be6-b387-3bfd392315ab",
       "rows": [
        [
         "False",
         "8397"
        ],
        [
         "True",
         "775"
        ]
       ],
       "shape": {
        "columns": 1,
        "rows": 2
       }
      },
      "text/plain": [
       "thyroid\n",
       "False    8397\n",
       "True      775\n",
       "Name: count, dtype: int64"
      ]
     },
     "execution_count": 4,
     "metadata": {},
     "output_type": "execute_result"
    }
   ],
   "source": [
    "# Create new Outcome variable 'thyroid' (1 if target in disease_code else 0)\n",
    "disease_code = [\"A\", \"B\", \"C\", \"D\", \"E\", \"F\", \"G\", \"H\"]\n",
    "rawThyroidData['thyroid'] = rawThyroidData['target'].apply(lambda x: 'True' if x in disease_code else 'False')\n",
    "# Optionally, move 'thyroid' column to the front\n",
    "cols = ['thyroid'] + [col for col in rawThyroidData.columns if col != 'thyroid']\n",
    "rawThyroidData = rawThyroidData[cols]\n",
    "\n",
    "# Check counts\n",
    "rawThyroidData['thyroid'].value_counts()"
   ]
  },
  {
   "cell_type": "markdown",
   "id": "21b0305a",
   "metadata": {},
   "source": [
    "### Save the Raw Data\n",
    "\n",
    "Save the pre-processed data for further steps.\n",
    "- As CSV (portable)\n",
    "- As pickle (fast Python loading, optional)"
   ]
  },
  {
   "cell_type": "code",
   "execution_count": 5,
   "id": "dbdd6405",
   "metadata": {},
   "outputs": [],
   "source": [
    "# Save as CSV\n",
    "rawThyroidData.to_csv('data/rawThyroidData.csv', index=False)\n",
    "\n",
    "# Save as pickle (optional)\n",
    "rawThyroidData.to_pickle('data/rawThyroidData.pkl')"
   ]
  },
  {
   "cell_type": "markdown",
   "id": "ab7f81ed",
   "metadata": {},
   "source": [
    "## 2. Missing Values\n",
    "\n",
    "Missing Value General Approach is exclude observation with missing values. \n",
    "When paremtere has more more tha 90% missing values, parameter is drop from dataset.\n",
    "As predictor ‘TBG’ has too many missing values i.e. 96%. Predictor ‘TBG’ is removed. \n",
    "Predictor ‘TBG_measured’ is also removed along with ‘TBG’ as this is a flag for measurement of TBG as per data context and interpretation."
   ]
  },
  {
   "cell_type": "code",
   "execution_count": 6,
   "id": "8d50810a",
   "metadata": {},
   "outputs": [
    {
     "name": "stdout",
     "output_type": "stream",
     "text": [
      "Missing Value Summary per Parameter:\n",
      "     missing_count  missing_percent\n",
      "sex            307         3.347143\n",
      "TSH            842         9.180113\n",
      "T3            2604        28.390754\n",
      "TT4            442         4.819014\n",
      "T4U            809         8.820323\n",
      "FTI            802         8.744003\n",
      "TBG           8823        96.194941\n"
     ]
    }
   ],
   "source": [
    "# Get missing value statistics\n",
    "missing_counts = rawThyroidData.isnull().sum()\n",
    "missing_percent = 100 * missing_counts / len(rawThyroidData)\n",
    "\n",
    "# Combine into a summary DataFrame\n",
    "missing_summary = pd.DataFrame({\n",
    "    'missing_count': missing_counts,\n",
    "    'missing_percent': missing_percent\n",
    "})\n",
    "\n",
    "print(\"Missing Value Summary per Parameter:\")\n",
    "print(missing_summary[missing_summary['missing_count'] > 0])"
   ]
  },
  {
   "cell_type": "code",
   "execution_count": 7,
   "id": "bac31793",
   "metadata": {},
   "outputs": [
    {
     "name": "stdout",
     "output_type": "stream",
     "text": [
      "Final dataset shape: (5789, 30)\n",
      "Raw dataset shape: (9172, 32)\n",
      "Updated categorical columns: ['sex', 'on_thyroxine', 'query_on_thyroxine', 'on_antithyroid_meds', 'sick', 'pregnant', 'thyroid_surgery', 'I131_treatment', 'query_hypothyroid', 'query_hyperthyroid', 'lithium', 'goitre', 'tumor', 'hypopituitary', 'psych', 'TSH_measured', 'T3_measured', 'TT4_measured', 'T4U_measured', 'FTI_measured', 'referral_source', 'target']\n"
     ]
    }
   ],
   "source": [
    "# Drop columns TBG and TBG_measured.\n",
    "columns_to_drop = ['TBG', 'TBG_measured']\n",
    "# Drop the specified columns\n",
    "cleanThyroidData = rawThyroidData.drop(columns=columns_to_drop)\n",
    "\n",
    "# Drop rows with missing values in remaining columns\n",
    "cleanThyroidData = cleanThyroidData.dropna()\n",
    "print(f\"Final dataset shape: {cleanThyroidData.shape}\\nRaw dataset shape: {rawThyroidData.shape}\")\n",
    "\n",
    "# Update categorical_cols after dropping columns\n",
    "categorical_cols = [col for col in categorical_cols if col in cleanThyroidData.columns]\n",
    "print(\"Updated categorical columns:\", categorical_cols)"
   ]
  },
  {
   "cell_type": "markdown",
   "id": "76b53927",
   "metadata": {},
   "source": [
    "## 3. Drop Non informative features.\n",
    "    Drop non informative columns i.e. 'patient_id' and orginal outcome variable 'target'."
   ]
  },
  {
   "cell_type": "code",
   "execution_count": 8,
   "id": "84ec8029",
   "metadata": {},
   "outputs": [
    {
     "name": "stdout",
     "output_type": "stream",
     "text": [
      "Updated categorical columns: ['sex', 'on_thyroxine', 'query_on_thyroxine', 'on_antithyroid_meds', 'sick', 'pregnant', 'thyroid_surgery', 'I131_treatment', 'query_hypothyroid', 'query_hyperthyroid', 'lithium', 'goitre', 'tumor', 'hypopituitary', 'psych', 'T4U_measured', 'referral_source']\n"
     ]
    }
   ],
   "source": [
    "# Drop non informative columns i.e. 'patient_id' and orginal outcome variable 'target'.\n",
    "columns_noinfomative = ['patient_id', 'target', 'TSH_measured', 'TT4_measured', 'T3_measured', 'FTI_measured']\n",
    "cleanThyroidData = cleanThyroidData.drop(columns=columns_noinfomative)\n",
    "\n",
    "# Update categorical_cols after dropping columns\n",
    "categorical_cols = [col for col in categorical_cols if col in cleanThyroidData.columns]\n",
    "print(\"Updated categorical columns:\", categorical_cols)"
   ]
  },
  {
   "cell_type": "code",
   "execution_count": 9,
   "id": "23b621bb",
   "metadata": {},
   "outputs": [
    {
     "data": {
      "text/plain": [
       "Index(['thyroid', 'age', 'sex', 'on_thyroxine', 'query_on_thyroxine',\n",
       "       'on_antithyroid_meds', 'sick', 'pregnant', 'thyroid_surgery',\n",
       "       'I131_treatment', 'query_hypothyroid', 'query_hyperthyroid', 'lithium',\n",
       "       'goitre', 'tumor', 'hypopituitary', 'psych', 'TSH', 'T3', 'TT4',\n",
       "       'T4U_measured', 'T4U', 'FTI', 'referral_source'],\n",
       "      dtype='object')"
      ]
     },
     "execution_count": 9,
     "metadata": {},
     "output_type": "execute_result"
    }
   ],
   "source": [
    "cleanThyroidData.head()\n",
    "cleanThyroidData.columns\n"
   ]
  },
  {
   "cell_type": "markdown",
   "id": "1fabe4cf",
   "metadata": {},
   "source": [
    "## 4. Outliers and Non-Normal Distributions\n",
    "\n",
    "- Removing outliers for age : implausible values are removed. i.e. age > 110.\n",
    "- Log-transforming skewed variables :\n",
    "    After evaluating skewness of these variables, skew or Non-Normal distributed variables TSH, T3, T4U will be log-transformed. Skewness of FTI is increased after log transform. \n",
    "    TT4 skewness factor is near 1.0. This is the reason FTI and TT4 are not log transformed.\n",
    "- Producing summary statistics before/after\n",
    "- Visualizing distributions"
   ]
  },
  {
   "cell_type": "code",
   "execution_count": 10,
   "id": "9752d101",
   "metadata": {},
   "outputs": [
    {
     "name": "stdout",
     "output_type": "stream",
     "text": [
      "Summary statistics before log-transform:\n",
      "                age          TSH           T3          TT4          T4U  \\\n",
      "count   5789.000000  5789.000000  5789.000000  5789.000000  5789.000000   \n",
      "mean      76.291242     5.162651     1.948817   107.878089     0.976116   \n",
      "std     1216.726999    24.530112     0.872959    37.439111     0.193934   \n",
      "min        1.000000     0.005000     0.050000     2.000000     0.170000   \n",
      "25%       38.000000     0.400000     1.500000    87.000000     0.860000   \n",
      "50%       56.000000     1.300000     1.900000   104.000000     0.960000   \n",
      "75%       69.000000     2.600000     2.300000   125.000000     1.070000   \n",
      "max    65512.000000   530.000000    18.000000   450.000000     2.330000   \n",
      "\n",
      "               FTI  \n",
      "count  5789.000000  \n",
      "mean    112.130669  \n",
      "std      37.456203  \n",
      "min       1.400000  \n",
      "25%      93.000000  \n",
      "50%     109.000000  \n",
      "75%     127.000000  \n",
      "max     642.000000  \n",
      "\n",
      "Skewness before log-transform:\n",
      "TSH: 12.82\n",
      "T3: 3.06\n",
      "TT4: 1.27\n",
      "T4U: 1.11\n",
      "FTI: 1.92\n"
     ]
    }
   ],
   "source": [
    "\n",
    "# Summary statistics before transformation\n",
    "print(\"Summary statistics before log-transform:\")\n",
    "print(cleanThyroidData[['age', 'TSH', 'T3', 'TT4', 'T4U', 'FTI']].describe())\n",
    "print('\\nSkewness before log-transform:')\n",
    "for col in ['TSH', 'T3', 'TT4', 'T4U', 'FTI']:\n",
    "    print(f\"{col}: {skew(cleanThyroidData[col].dropna()):.2f}\")\n"
   ]
  },
  {
   "cell_type": "code",
   "execution_count": 11,
   "id": "0ee548e4",
   "metadata": {},
   "outputs": [
    {
     "data": {
      "application/vnd.microsoft.datawrangler.viewer.v0+json": {
       "columns": [
        {
         "name": "index",
         "rawType": "int64",
         "type": "integer"
        },
        {
         "name": "thyroid",
         "rawType": "object",
         "type": "string"
        },
        {
         "name": "age",
         "rawType": "int64",
         "type": "integer"
        },
        {
         "name": "sex",
         "rawType": "object",
         "type": "string"
        },
        {
         "name": "on_thyroxine",
         "rawType": "bool",
         "type": "boolean"
        },
        {
         "name": "query_on_thyroxine",
         "rawType": "bool",
         "type": "boolean"
        },
        {
         "name": "on_antithyroid_meds",
         "rawType": "bool",
         "type": "boolean"
        },
        {
         "name": "sick",
         "rawType": "bool",
         "type": "boolean"
        },
        {
         "name": "pregnant",
         "rawType": "bool",
         "type": "boolean"
        },
        {
         "name": "thyroid_surgery",
         "rawType": "bool",
         "type": "boolean"
        },
        {
         "name": "I131_treatment",
         "rawType": "bool",
         "type": "boolean"
        },
        {
         "name": "query_hypothyroid",
         "rawType": "bool",
         "type": "boolean"
        },
        {
         "name": "query_hyperthyroid",
         "rawType": "bool",
         "type": "boolean"
        },
        {
         "name": "lithium",
         "rawType": "bool",
         "type": "boolean"
        },
        {
         "name": "goitre",
         "rawType": "bool",
         "type": "boolean"
        },
        {
         "name": "tumor",
         "rawType": "bool",
         "type": "boolean"
        },
        {
         "name": "hypopituitary",
         "rawType": "bool",
         "type": "boolean"
        },
        {
         "name": "psych",
         "rawType": "bool",
         "type": "boolean"
        },
        {
         "name": "TSH",
         "rawType": "float64",
         "type": "float"
        },
        {
         "name": "T3",
         "rawType": "float64",
         "type": "float"
        },
        {
         "name": "TT4",
         "rawType": "float64",
         "type": "float"
        },
        {
         "name": "T4U_measured",
         "rawType": "bool",
         "type": "boolean"
        },
        {
         "name": "T4U",
         "rawType": "float64",
         "type": "float"
        },
        {
         "name": "FTI",
         "rawType": "float64",
         "type": "float"
        },
        {
         "name": "referral_source",
         "rawType": "object",
         "type": "string"
        }
       ],
       "ref": "31423a47-1ae6-4f8b-bb33-f90cb958ce8a",
       "rows": [
        [
         "19",
         "False",
         "36",
         "Female",
         "False",
         "False",
         "False",
         "False",
         "False",
         "False",
         "False",
         "True",
         "True",
         "False",
         "False",
         "False",
         "False",
         "False",
         "1.5",
         "2.4",
         "90.0",
         "True",
         "1.06",
         "85.0",
         "other"
        ],
        [
         "21",
         "False",
         "40",
         "Female",
         "False",
         "False",
         "False",
         "False",
         "False",
         "False",
         "False",
         "False",
         "False",
         "False",
         "False",
         "False",
         "False",
         "False",
         "1.2",
         "2.3",
         "104.0",
         "True",
         "1.08",
         "96.0",
         "other"
        ],
        [
         "22",
         "False",
         "40",
         "Female",
         "False",
         "False",
         "False",
         "False",
         "False",
         "False",
         "False",
         "False",
         "False",
         "False",
         "False",
         "False",
         "False",
         "False",
         "5.9",
         "2.1",
         "88.0",
         "True",
         "0.84",
         "105.0",
         "other"
        ],
        [
         "23",
         "False",
         "77",
         "Female",
         "False",
         "False",
         "False",
         "False",
         "False",
         "False",
         "False",
         "False",
         "False",
         "False",
         "False",
         "False",
         "False",
         "False",
         "0.05",
         "2.4",
         "107.0",
         "True",
         "1.13",
         "95.0",
         "other"
        ],
        [
         "27",
         "False",
         "51",
         "Female",
         "False",
         "False",
         "False",
         "False",
         "False",
         "False",
         "False",
         "False",
         "False",
         "False",
         "False",
         "False",
         "False",
         "False",
         "0.05",
         "2.1",
         "93.0",
         "True",
         "0.87",
         "106.0",
         "SVI"
        ]
       ],
       "shape": {
        "columns": 24,
        "rows": 5
       }
      },
      "text/html": [
       "<div>\n",
       "<style scoped>\n",
       "    .dataframe tbody tr th:only-of-type {\n",
       "        vertical-align: middle;\n",
       "    }\n",
       "\n",
       "    .dataframe tbody tr th {\n",
       "        vertical-align: top;\n",
       "    }\n",
       "\n",
       "    .dataframe thead th {\n",
       "        text-align: right;\n",
       "    }\n",
       "</style>\n",
       "<table border=\"1\" class=\"dataframe\">\n",
       "  <thead>\n",
       "    <tr style=\"text-align: right;\">\n",
       "      <th></th>\n",
       "      <th>thyroid</th>\n",
       "      <th>age</th>\n",
       "      <th>sex</th>\n",
       "      <th>on_thyroxine</th>\n",
       "      <th>query_on_thyroxine</th>\n",
       "      <th>on_antithyroid_meds</th>\n",
       "      <th>sick</th>\n",
       "      <th>pregnant</th>\n",
       "      <th>thyroid_surgery</th>\n",
       "      <th>I131_treatment</th>\n",
       "      <th>...</th>\n",
       "      <th>tumor</th>\n",
       "      <th>hypopituitary</th>\n",
       "      <th>psych</th>\n",
       "      <th>TSH</th>\n",
       "      <th>T3</th>\n",
       "      <th>TT4</th>\n",
       "      <th>T4U_measured</th>\n",
       "      <th>T4U</th>\n",
       "      <th>FTI</th>\n",
       "      <th>referral_source</th>\n",
       "    </tr>\n",
       "  </thead>\n",
       "  <tbody>\n",
       "    <tr>\n",
       "      <th>19</th>\n",
       "      <td>False</td>\n",
       "      <td>36</td>\n",
       "      <td>Female</td>\n",
       "      <td>False</td>\n",
       "      <td>False</td>\n",
       "      <td>False</td>\n",
       "      <td>False</td>\n",
       "      <td>False</td>\n",
       "      <td>False</td>\n",
       "      <td>False</td>\n",
       "      <td>...</td>\n",
       "      <td>False</td>\n",
       "      <td>False</td>\n",
       "      <td>False</td>\n",
       "      <td>1.50</td>\n",
       "      <td>2.4</td>\n",
       "      <td>90.0</td>\n",
       "      <td>True</td>\n",
       "      <td>1.06</td>\n",
       "      <td>85.0</td>\n",
       "      <td>other</td>\n",
       "    </tr>\n",
       "    <tr>\n",
       "      <th>21</th>\n",
       "      <td>False</td>\n",
       "      <td>40</td>\n",
       "      <td>Female</td>\n",
       "      <td>False</td>\n",
       "      <td>False</td>\n",
       "      <td>False</td>\n",
       "      <td>False</td>\n",
       "      <td>False</td>\n",
       "      <td>False</td>\n",
       "      <td>False</td>\n",
       "      <td>...</td>\n",
       "      <td>False</td>\n",
       "      <td>False</td>\n",
       "      <td>False</td>\n",
       "      <td>1.20</td>\n",
       "      <td>2.3</td>\n",
       "      <td>104.0</td>\n",
       "      <td>True</td>\n",
       "      <td>1.08</td>\n",
       "      <td>96.0</td>\n",
       "      <td>other</td>\n",
       "    </tr>\n",
       "    <tr>\n",
       "      <th>22</th>\n",
       "      <td>False</td>\n",
       "      <td>40</td>\n",
       "      <td>Female</td>\n",
       "      <td>False</td>\n",
       "      <td>False</td>\n",
       "      <td>False</td>\n",
       "      <td>False</td>\n",
       "      <td>False</td>\n",
       "      <td>False</td>\n",
       "      <td>False</td>\n",
       "      <td>...</td>\n",
       "      <td>False</td>\n",
       "      <td>False</td>\n",
       "      <td>False</td>\n",
       "      <td>5.90</td>\n",
       "      <td>2.1</td>\n",
       "      <td>88.0</td>\n",
       "      <td>True</td>\n",
       "      <td>0.84</td>\n",
       "      <td>105.0</td>\n",
       "      <td>other</td>\n",
       "    </tr>\n",
       "    <tr>\n",
       "      <th>23</th>\n",
       "      <td>False</td>\n",
       "      <td>77</td>\n",
       "      <td>Female</td>\n",
       "      <td>False</td>\n",
       "      <td>False</td>\n",
       "      <td>False</td>\n",
       "      <td>False</td>\n",
       "      <td>False</td>\n",
       "      <td>False</td>\n",
       "      <td>False</td>\n",
       "      <td>...</td>\n",
       "      <td>False</td>\n",
       "      <td>False</td>\n",
       "      <td>False</td>\n",
       "      <td>0.05</td>\n",
       "      <td>2.4</td>\n",
       "      <td>107.0</td>\n",
       "      <td>True</td>\n",
       "      <td>1.13</td>\n",
       "      <td>95.0</td>\n",
       "      <td>other</td>\n",
       "    </tr>\n",
       "    <tr>\n",
       "      <th>27</th>\n",
       "      <td>False</td>\n",
       "      <td>51</td>\n",
       "      <td>Female</td>\n",
       "      <td>False</td>\n",
       "      <td>False</td>\n",
       "      <td>False</td>\n",
       "      <td>False</td>\n",
       "      <td>False</td>\n",
       "      <td>False</td>\n",
       "      <td>False</td>\n",
       "      <td>...</td>\n",
       "      <td>False</td>\n",
       "      <td>False</td>\n",
       "      <td>False</td>\n",
       "      <td>0.05</td>\n",
       "      <td>2.1</td>\n",
       "      <td>93.0</td>\n",
       "      <td>True</td>\n",
       "      <td>0.87</td>\n",
       "      <td>106.0</td>\n",
       "      <td>SVI</td>\n",
       "    </tr>\n",
       "  </tbody>\n",
       "</table>\n",
       "<p>5 rows × 24 columns</p>\n",
       "</div>"
      ],
      "text/plain": [
       "   thyroid  age     sex  on_thyroxine  query_on_thyroxine  \\\n",
       "19   False   36  Female         False               False   \n",
       "21   False   40  Female         False               False   \n",
       "22   False   40  Female         False               False   \n",
       "23   False   77  Female         False               False   \n",
       "27   False   51  Female         False               False   \n",
       "\n",
       "    on_antithyroid_meds   sick  pregnant  thyroid_surgery  I131_treatment  \\\n",
       "19                False  False     False            False           False   \n",
       "21                False  False     False            False           False   \n",
       "22                False  False     False            False           False   \n",
       "23                False  False     False            False           False   \n",
       "27                False  False     False            False           False   \n",
       "\n",
       "    ...  tumor  hypopituitary  psych   TSH   T3    TT4  T4U_measured   T4U  \\\n",
       "19  ...  False          False  False  1.50  2.4   90.0          True  1.06   \n",
       "21  ...  False          False  False  1.20  2.3  104.0          True  1.08   \n",
       "22  ...  False          False  False  5.90  2.1   88.0          True  0.84   \n",
       "23  ...  False          False  False  0.05  2.4  107.0          True  1.13   \n",
       "27  ...  False          False  False  0.05  2.1   93.0          True  0.87   \n",
       "\n",
       "      FTI  referral_source  \n",
       "19   85.0            other  \n",
       "21   96.0            other  \n",
       "22  105.0            other  \n",
       "23   95.0            other  \n",
       "27  106.0              SVI  \n",
       "\n",
       "[5 rows x 24 columns]"
      ]
     },
     "execution_count": 11,
     "metadata": {},
     "output_type": "execute_result"
    }
   ],
   "source": [
    "cleanThyroidData.head()"
   ]
  },
  {
   "cell_type": "code",
   "execution_count": 12,
   "id": "fd136877",
   "metadata": {},
   "outputs": [
    {
     "name": "stdout",
     "output_type": "stream",
     "text": [
      "Index(['thyroid', 'age', 'sex', 'on_thyroxine', 'query_on_thyroxine',\n",
      "       'on_antithyroid_meds', 'sick', 'pregnant', 'thyroid_surgery',\n",
      "       'I131_treatment', 'query_hypothyroid', 'query_hyperthyroid', 'lithium',\n",
      "       'goitre', 'tumor', 'hypopituitary', 'psych', 'TSH', 'T3', 'TT4',\n",
      "       'T4U_measured', 'T4U', 'FTI', 'referral_source'],\n",
      "      dtype='object')\n",
      "\n",
      "Summary statistics after log-transform:\n",
      "               age          TSH           T3          TT4          T4U  \\\n",
      "count  5786.000000  5786.000000  5786.000000  5786.000000  5786.000000   \n",
      "mean     53.607328     2.183537     2.129272   107.874742     2.011380   \n",
      "std      18.795951     0.487536     0.095195    37.448481     0.025616   \n",
      "min       1.000000     1.872571     1.879465     2.000000     1.897620   \n",
      "25%      38.000000     1.931521     2.079442    87.000000     1.996060   \n",
      "50%      56.000000     2.054124     2.128232   104.000000     2.009555   \n",
      "75%      69.000000     2.208274     2.174752   125.000000     2.024193   \n",
      "max      97.000000     6.285067     3.198673   450.000000     2.178155   \n",
      "\n",
      "               FTI  \n",
      "count  5786.000000  \n",
      "mean    112.129872  \n",
      "std      37.464604  \n",
      "min       1.400000  \n",
      "25%      93.000000  \n",
      "50%     109.000000  \n",
      "75%     127.000000  \n",
      "max     642.000000  \n",
      "\n",
      "Skewness after log-transform:\n",
      "TSH: 4.00\n",
      "T3: 1.21\n",
      "TT4: 1.27\n",
      "T4U: 0.94\n",
      "FTI: 1.92\n"
     ]
    }
   ],
   "source": [
    "# 1. Remove implausible ages (e.g., age > 110)\n",
    "\n",
    "cleanThyroidData = cleanThyroidData[cleanThyroidData['age'] < 110]\n",
    "\n",
    "print(cleanThyroidData.columns)\n",
    "\n",
    "# 2. Specify variables to log-transform due to skew/outliers\n",
    "log_vars = ['TSH', 'T3', 'T4U']\n",
    "\n",
    "# 4. Log-transform (add small constant to avoid log(0))\n",
    "cleanThyroidData[log_vars] = cleanThyroidData[log_vars].apply(lambda x: np.log(x + 6.5))\n",
    "\n",
    "# 5. Summary statistics after transformation\n",
    "print(\"\\nSummary statistics after log-transform:\")\n",
    "print(cleanThyroidData[['age', 'TSH', 'T3', 'TT4', 'T4U', 'FTI']].describe())\n",
    "print('\\nSkewness after log-transform:')\n",
    "for col in ['TSH', 'T3', 'TT4', 'T4U', 'FTI']:\n",
    "    print(f\"{col}: {skew(cleanThyroidData[col].dropna()):.2f}\")"
   ]
  },
  {
   "cell_type": "code",
   "execution_count": 13,
   "id": "0a55e23e",
   "metadata": {},
   "outputs": [
    {
     "data": {
      "application/vnd.microsoft.datawrangler.viewer.v0+json": {
       "columns": [
        {
         "name": "index",
         "rawType": "int64",
         "type": "integer"
        },
        {
         "name": "thyroid",
         "rawType": "object",
         "type": "string"
        },
        {
         "name": "age",
         "rawType": "int64",
         "type": "integer"
        },
        {
         "name": "sex",
         "rawType": "object",
         "type": "string"
        },
        {
         "name": "on_thyroxine",
         "rawType": "bool",
         "type": "boolean"
        },
        {
         "name": "query_on_thyroxine",
         "rawType": "bool",
         "type": "boolean"
        },
        {
         "name": "on_antithyroid_meds",
         "rawType": "bool",
         "type": "boolean"
        },
        {
         "name": "sick",
         "rawType": "bool",
         "type": "boolean"
        },
        {
         "name": "pregnant",
         "rawType": "bool",
         "type": "boolean"
        },
        {
         "name": "thyroid_surgery",
         "rawType": "bool",
         "type": "boolean"
        },
        {
         "name": "I131_treatment",
         "rawType": "bool",
         "type": "boolean"
        },
        {
         "name": "query_hypothyroid",
         "rawType": "bool",
         "type": "boolean"
        },
        {
         "name": "query_hyperthyroid",
         "rawType": "bool",
         "type": "boolean"
        },
        {
         "name": "lithium",
         "rawType": "bool",
         "type": "boolean"
        },
        {
         "name": "goitre",
         "rawType": "bool",
         "type": "boolean"
        },
        {
         "name": "tumor",
         "rawType": "bool",
         "type": "boolean"
        },
        {
         "name": "hypopituitary",
         "rawType": "bool",
         "type": "boolean"
        },
        {
         "name": "psych",
         "rawType": "bool",
         "type": "boolean"
        },
        {
         "name": "TSH",
         "rawType": "float64",
         "type": "float"
        },
        {
         "name": "T3",
         "rawType": "float64",
         "type": "float"
        },
        {
         "name": "TT4",
         "rawType": "float64",
         "type": "float"
        },
        {
         "name": "T4U_measured",
         "rawType": "bool",
         "type": "boolean"
        },
        {
         "name": "T4U",
         "rawType": "float64",
         "type": "float"
        },
        {
         "name": "FTI",
         "rawType": "float64",
         "type": "float"
        },
        {
         "name": "referral_source",
         "rawType": "object",
         "type": "string"
        }
       ],
       "ref": "b042a830-d102-4682-8be7-36019415e878",
       "rows": [
        [
         "19",
         "False",
         "36",
         "Female",
         "False",
         "False",
         "False",
         "False",
         "False",
         "False",
         "False",
         "True",
         "True",
         "False",
         "False",
         "False",
         "False",
         "False",
         "2.0794415416798357",
         "2.186051276738094",
         "90.0",
         "True",
         "2.0228711901914416",
         "85.0",
         "other"
        ],
        [
         "21",
         "False",
         "40",
         "Female",
         "False",
         "False",
         "False",
         "False",
         "False",
         "False",
         "False",
         "False",
         "False",
         "False",
         "False",
         "False",
         "False",
         "False",
         "2.0412203288596382",
         "2.174751721484161",
         "104.0",
         "True",
         "2.0255131996542803",
         "96.0",
         "other"
        ],
        [
         "22",
         "False",
         "40",
         "Female",
         "False",
         "False",
         "False",
         "False",
         "False",
         "False",
         "False",
         "False",
         "False",
         "False",
         "False",
         "False",
         "False",
         "False",
         "2.517696472610991",
         "2.151762203259462",
         "88.0",
         "True",
         "1.9933388426264242",
         "105.0",
         "other"
        ],
        [
         "23",
         "False",
         "77",
         "Female",
         "False",
         "False",
         "False",
         "False",
         "False",
         "False",
         "False",
         "False",
         "False",
         "False",
         "False",
         "False",
         "False",
         "False",
         "1.8794650496471605",
         "2.186051276738094",
         "107.0",
         "True",
         "2.0320878452963655",
         "95.0",
         "other"
        ],
        [
         "27",
         "False",
         "51",
         "Female",
         "False",
         "False",
         "False",
         "False",
         "False",
         "False",
         "False",
         "False",
         "False",
         "False",
         "False",
         "False",
         "False",
         "False",
         "1.8794650496471605",
         "2.151762203259462",
         "93.0",
         "True",
         "1.9974177062012453",
         "106.0",
         "SVI"
        ]
       ],
       "shape": {
        "columns": 24,
        "rows": 5
       }
      },
      "text/html": [
       "<div>\n",
       "<style scoped>\n",
       "    .dataframe tbody tr th:only-of-type {\n",
       "        vertical-align: middle;\n",
       "    }\n",
       "\n",
       "    .dataframe tbody tr th {\n",
       "        vertical-align: top;\n",
       "    }\n",
       "\n",
       "    .dataframe thead th {\n",
       "        text-align: right;\n",
       "    }\n",
       "</style>\n",
       "<table border=\"1\" class=\"dataframe\">\n",
       "  <thead>\n",
       "    <tr style=\"text-align: right;\">\n",
       "      <th></th>\n",
       "      <th>thyroid</th>\n",
       "      <th>age</th>\n",
       "      <th>sex</th>\n",
       "      <th>on_thyroxine</th>\n",
       "      <th>query_on_thyroxine</th>\n",
       "      <th>on_antithyroid_meds</th>\n",
       "      <th>sick</th>\n",
       "      <th>pregnant</th>\n",
       "      <th>thyroid_surgery</th>\n",
       "      <th>I131_treatment</th>\n",
       "      <th>...</th>\n",
       "      <th>tumor</th>\n",
       "      <th>hypopituitary</th>\n",
       "      <th>psych</th>\n",
       "      <th>TSH</th>\n",
       "      <th>T3</th>\n",
       "      <th>TT4</th>\n",
       "      <th>T4U_measured</th>\n",
       "      <th>T4U</th>\n",
       "      <th>FTI</th>\n",
       "      <th>referral_source</th>\n",
       "    </tr>\n",
       "  </thead>\n",
       "  <tbody>\n",
       "    <tr>\n",
       "      <th>19</th>\n",
       "      <td>False</td>\n",
       "      <td>36</td>\n",
       "      <td>Female</td>\n",
       "      <td>False</td>\n",
       "      <td>False</td>\n",
       "      <td>False</td>\n",
       "      <td>False</td>\n",
       "      <td>False</td>\n",
       "      <td>False</td>\n",
       "      <td>False</td>\n",
       "      <td>...</td>\n",
       "      <td>False</td>\n",
       "      <td>False</td>\n",
       "      <td>False</td>\n",
       "      <td>2.079442</td>\n",
       "      <td>2.186051</td>\n",
       "      <td>90.0</td>\n",
       "      <td>True</td>\n",
       "      <td>2.022871</td>\n",
       "      <td>85.0</td>\n",
       "      <td>other</td>\n",
       "    </tr>\n",
       "    <tr>\n",
       "      <th>21</th>\n",
       "      <td>False</td>\n",
       "      <td>40</td>\n",
       "      <td>Female</td>\n",
       "      <td>False</td>\n",
       "      <td>False</td>\n",
       "      <td>False</td>\n",
       "      <td>False</td>\n",
       "      <td>False</td>\n",
       "      <td>False</td>\n",
       "      <td>False</td>\n",
       "      <td>...</td>\n",
       "      <td>False</td>\n",
       "      <td>False</td>\n",
       "      <td>False</td>\n",
       "      <td>2.041220</td>\n",
       "      <td>2.174752</td>\n",
       "      <td>104.0</td>\n",
       "      <td>True</td>\n",
       "      <td>2.025513</td>\n",
       "      <td>96.0</td>\n",
       "      <td>other</td>\n",
       "    </tr>\n",
       "    <tr>\n",
       "      <th>22</th>\n",
       "      <td>False</td>\n",
       "      <td>40</td>\n",
       "      <td>Female</td>\n",
       "      <td>False</td>\n",
       "      <td>False</td>\n",
       "      <td>False</td>\n",
       "      <td>False</td>\n",
       "      <td>False</td>\n",
       "      <td>False</td>\n",
       "      <td>False</td>\n",
       "      <td>...</td>\n",
       "      <td>False</td>\n",
       "      <td>False</td>\n",
       "      <td>False</td>\n",
       "      <td>2.517696</td>\n",
       "      <td>2.151762</td>\n",
       "      <td>88.0</td>\n",
       "      <td>True</td>\n",
       "      <td>1.993339</td>\n",
       "      <td>105.0</td>\n",
       "      <td>other</td>\n",
       "    </tr>\n",
       "    <tr>\n",
       "      <th>23</th>\n",
       "      <td>False</td>\n",
       "      <td>77</td>\n",
       "      <td>Female</td>\n",
       "      <td>False</td>\n",
       "      <td>False</td>\n",
       "      <td>False</td>\n",
       "      <td>False</td>\n",
       "      <td>False</td>\n",
       "      <td>False</td>\n",
       "      <td>False</td>\n",
       "      <td>...</td>\n",
       "      <td>False</td>\n",
       "      <td>False</td>\n",
       "      <td>False</td>\n",
       "      <td>1.879465</td>\n",
       "      <td>2.186051</td>\n",
       "      <td>107.0</td>\n",
       "      <td>True</td>\n",
       "      <td>2.032088</td>\n",
       "      <td>95.0</td>\n",
       "      <td>other</td>\n",
       "    </tr>\n",
       "    <tr>\n",
       "      <th>27</th>\n",
       "      <td>False</td>\n",
       "      <td>51</td>\n",
       "      <td>Female</td>\n",
       "      <td>False</td>\n",
       "      <td>False</td>\n",
       "      <td>False</td>\n",
       "      <td>False</td>\n",
       "      <td>False</td>\n",
       "      <td>False</td>\n",
       "      <td>False</td>\n",
       "      <td>...</td>\n",
       "      <td>False</td>\n",
       "      <td>False</td>\n",
       "      <td>False</td>\n",
       "      <td>1.879465</td>\n",
       "      <td>2.151762</td>\n",
       "      <td>93.0</td>\n",
       "      <td>True</td>\n",
       "      <td>1.997418</td>\n",
       "      <td>106.0</td>\n",
       "      <td>SVI</td>\n",
       "    </tr>\n",
       "  </tbody>\n",
       "</table>\n",
       "<p>5 rows × 24 columns</p>\n",
       "</div>"
      ],
      "text/plain": [
       "   thyroid  age     sex  on_thyroxine  query_on_thyroxine  \\\n",
       "19   False   36  Female         False               False   \n",
       "21   False   40  Female         False               False   \n",
       "22   False   40  Female         False               False   \n",
       "23   False   77  Female         False               False   \n",
       "27   False   51  Female         False               False   \n",
       "\n",
       "    on_antithyroid_meds   sick  pregnant  thyroid_surgery  I131_treatment  \\\n",
       "19                False  False     False            False           False   \n",
       "21                False  False     False            False           False   \n",
       "22                False  False     False            False           False   \n",
       "23                False  False     False            False           False   \n",
       "27                False  False     False            False           False   \n",
       "\n",
       "    ...  tumor  hypopituitary  psych       TSH        T3    TT4  T4U_measured  \\\n",
       "19  ...  False          False  False  2.079442  2.186051   90.0          True   \n",
       "21  ...  False          False  False  2.041220  2.174752  104.0          True   \n",
       "22  ...  False          False  False  2.517696  2.151762   88.0          True   \n",
       "23  ...  False          False  False  1.879465  2.186051  107.0          True   \n",
       "27  ...  False          False  False  1.879465  2.151762   93.0          True   \n",
       "\n",
       "         T4U    FTI  referral_source  \n",
       "19  2.022871   85.0            other  \n",
       "21  2.025513   96.0            other  \n",
       "22  1.993339  105.0            other  \n",
       "23  2.032088   95.0            other  \n",
       "27  1.997418  106.0              SVI  \n",
       "\n",
       "[5 rows x 24 columns]"
      ]
     },
     "execution_count": 13,
     "metadata": {},
     "output_type": "execute_result"
    }
   ],
   "source": [
    "cleanThyroidData.head()"
   ]
  },
  {
   "cell_type": "code",
   "execution_count": 14,
   "id": "17082b07",
   "metadata": {},
   "outputs": [
    {
     "data": {
      "image/png": "[encoded data removed]",
      "text/plain": [
       "<Figure size 1500x800 with 6 Axes>"
      ]
     },
     "metadata": {},
     "output_type": "display_data"
    },
    {
     "data": {
      "image/png": "[encoded data removed]",
      "text/plain": [
       "<Figure size 1500x800 with 6 Axes>"
      ]
     },
     "metadata": {},
     "output_type": "display_data"
    }
   ],
   "source": [
    "\n",
    "# 6. Visualizations: Boxplots and Histograms before/after\n",
    "fig, axes = plt.subplots(2, len(log_vars), figsize=(15, 8))\n",
    "for i, var in enumerate(log_vars):\n",
    "    # Boxplot before\n",
    "    sns.boxplot(y=rawThyroidData[var], ax=axes[0, i])\n",
    "    axes[0, i].set_title(f'{var} Before')\n",
    "    # Boxplot after\n",
    "    sns.boxplot(y=cleanThyroidData[var], ax=axes[1, i])\n",
    "    axes[1, i].set_title(f'{var} After Log')\n",
    "plt.tight_layout()\n",
    "plt.show()\n",
    "\n",
    "fig, axes = plt.subplots(2, len(log_vars), figsize=(15, 8))\n",
    "for i, var in enumerate(log_vars):\n",
    "    # Histogram before\n",
    "    sns.histplot(rawThyroidData[var], kde=True, ax=axes[0, i])\n",
    "    axes[0, i].set_title(f'{var} Before')\n",
    "    # Histogram after\n",
    "    sns.histplot(cleanThyroidData[var], kde=True, ax=axes[1, i])\n",
    "    axes[1, i].set_title(f'{var} After Log')\n",
    "plt.tight_layout()\n",
    "plt.show()"
   ]
  },
  {
   "cell_type": "code",
   "execution_count": 15,
   "id": "7a8b4fa1",
   "metadata": {},
   "outputs": [],
   "source": [
    "# Save as CSV\n",
    "cleanThyroidData.to_csv('data/cleanThyroidData.csv', index=False)\n",
    "\n",
    "# Save as pickle (optional)\n",
    "cleanThyroidData.to_pickle('data/cleanThyroidData.pkl')"
   ]
  },
  {
   "cell_type": "markdown",
   "id": "862c38ed",
   "metadata": {},
   "source": [
    "## 5 Exploratory Data Analysis\n",
    "\n",
    "\n",
    "- **Correlation Matrix:**  \n",
    "  -  **Strong Correlation:**  \n",
    "      - **TT4 and FTI** have a strong positive correlation of 0.81.\n",
    "  - **Moderate Correlations:**  \n",
    "      - **TSH and FTI** exhibit a moderate negative correlation of -0.45.  \n",
    "      - **T3 and TT4** show a moderate positive correlation of 0.55.\n"
   ]
  },
  {
   "cell_type": "code",
   "execution_count": 16,
   "id": "27d1f6e8",
   "metadata": {},
   "outputs": [
    {
     "data": {
      "image/png": "[encoded data removed]",
      "text/plain": [
       "<Figure size 1000x800 with 2 Axes>"
      ]
     },
     "metadata": {},
     "output_type": "display_data"
    }
   ],
   "source": [
    "def plot_correlation_matrix(df):\n",
    "    # Select only numerical columns\n",
    "    numeric_vars = df.select_dtypes(include=[np.number])\n",
    "    # Compute correlation matrix\n",
    "    corr_matrix = numeric_vars.corr()\n",
    "    # Plot correlation matrix with values\n",
    "    plt.figure(figsize=(10, 8))\n",
    "    sns.heatmap(corr_matrix, annot=True, fmt='.2f', cmap='coolwarm', square=True)\n",
    "    plt.title('Correlation Matrix for Numerical Variables')\n",
    "    plt.tight_layout()\n",
    "    plt.show()\n",
    "\n",
    "plot_correlation_matrix(cleanThyroidData)"
   ]
  },
  {
   "cell_type": "code",
   "execution_count": 17,
   "id": "64a2bb33",
   "metadata": {},
   "outputs": [
    {
     "data": {
      "image/png": "[encoded data removed]",
      "text/plain": [
       "<Figure size 1000x500 with 1 Axes>"
      ]
     },
     "metadata": {},
     "output_type": "display_data"
    }
   ],
   "source": [
    "# Age density plot \n",
    "plt.figure(figsize=(10, 5))\n",
    "sns.kdeplot(data=cleanThyroidData, x='age', hue='thyroid', common_norm=False, fill=True, alpha=0.4)\n",
    "plt.title('Age Density Plot by Thyroid Outcome')\n",
    "plt.xlabel('Age')\n",
    "plt.ylabel('Density')\n",
    "plt.tight_layout()\n",
    "plt.show()"
   ]
  },
  {
   "cell_type": "code",
   "execution_count": 18,
   "id": "0cb391f5",
   "metadata": {},
   "outputs": [
    {
     "data": {
      "image/png": "[encoded data removed]",
      "text/plain": [
       "<Figure size 1200x600 with 1 Axes>"
      ]
     },
     "metadata": {},
     "output_type": "display_data"
    }
   ],
   "source": [
    "# Suppose cleanThyroidData has columns 'sex', 'thyroid', and 'age'\n",
    "# Create a combined group column:\n",
    "temp = cleanThyroidData[['sex', 'thyroid', 'age']].copy()\n",
    "temp['group'] = temp['sex'] + '_' + temp['thyroid']\n",
    "\n",
    "plt.figure(figsize=(12, 6))\n",
    "ax = sns.boxplot(\n",
    "    data=temp,\n",
    "    x='group',\n",
    "    y='age',\n",
    "   # order=order,\n",
    "    palette='tab10',\n",
    "    width=0.5,\n",
    "    linewidth=2,\n",
    "    fliersize=3\n",
    ")\n",
    "plt.title('Age Distribution by Gender and Thyroid Outcome')\n",
    "plt.xlabel('Group')\n",
    "plt.ylabel('Age')\n",
    "plt.tight_layout()\n",
    "plt.show()"
   ]
  }
 ],
 "metadata": {
  "kernelspec": {
   "display_name": "Python 3",
   "language": "python",
   "name": "python3"
  },
  "language_info": {
   "codemirror_mode": {
    "name": "ipython",
    "version": 3
   },
   "file_extension": ".py",
   "mimetype": "text/x-python",
   "name": "python",
   "nbconvert_exporter": "python",
   "pygments_lexer": "ipython3",
   "version": "3.11.5"
  }
 },
 "nbformat": 4,
 "nbformat_minor": 5
}
