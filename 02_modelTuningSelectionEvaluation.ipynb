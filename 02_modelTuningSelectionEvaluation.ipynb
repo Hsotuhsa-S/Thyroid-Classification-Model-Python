{
 "cells": [
  {
   "cell_type": "markdown",
   "id": "76af919d",
   "metadata": {},
   "source": [
    "# Comparative Analysis of Thyroid Disease Classification Models\n",
    "\n",
    "**Author:** Ashutosh Shirsat  \n",
    "**Project:** Data Science/ML   \n",
    "**Objective:** Compare and evaluate three different models, namely Generalized Linear Model (GLM), Support Vector Machines (SVM), Random Forest (RF) and K-Nearest Neighbour (KNN) to determine the most suitable model for accurate predictions on this dataset."
   ]
  },
  {
   "cell_type": "code",
   "execution_count": 1,
   "id": "463286be",
   "metadata": {},
   "outputs": [],
   "source": [
    "import pandas as pd\n",
    "import numpy as np\n",
    "from sklearn.model_selection import train_test_split, StratifiedKFold, GridSearchCV, learning_curve, cross_val_score\n",
    "from sklearn.preprocessing import StandardScaler, OneHotEncoder\n",
    "from sklearn.compose import ColumnTransformer\n",
    "from sklearn.pipeline import Pipeline\n",
    "from sklearn.linear_model import LogisticRegression\n",
    "from sklearn.svm import SVC\n",
    "from sklearn.ensemble import RandomForestClassifier\n",
    "from sklearn.neighbors import KNeighborsClassifier\n",
    "from sklearn.metrics import (\n",
    "    roc_auc_score, roc_curve, confusion_matrix, accuracy_score, precision_score, recall_score, f1_score\n",
    ")\n",
    "import matplotlib.pyplot as plt\n",
    "import seaborn as sns"
   ]
  },
  {
   "cell_type": "markdown",
   "id": "6e0be55a",
   "metadata": {},
   "source": [
    "1. Load and Prepare Data\n",
    "Purpose: Read the data, identify numeric and categorical features, set up target variable."
   ]
  },
  {
   "cell_type": "code",
   "execution_count": 2,
   "id": "e06c2612",
   "metadata": {},
   "outputs": [],
   "source": [
    "# 1. Load your data\n",
    "data = pd.read_csv(\"data/thyroidData_Lasso_featureselected.csv\")\n",
    "target_col = 'thyroid'\n",
    "X = data.drop(columns=target_col)\n",
    "y = data[target_col].astype(int)\n",
    "\n",
    "# 2. Identify feature types\n",
    "categorical_features = X.select_dtypes(include=['object', 'category']).columns.tolist()\n",
    "numeric_features = X.select_dtypes(include=[np.number, 'bool']).columns.tolist()"
   ]
  },
  {
   "cell_type": "markdown",
   "id": "24a2b9f6",
   "metadata": {},
   "source": [
    "2. Train/Test Split\n",
    "Purpose: Split data so model evaluation is honest."
   ]
  },
  {
   "cell_type": "code",
   "execution_count": 3,
   "id": "110d8832",
   "metadata": {},
   "outputs": [],
   "source": [
    "# 3. Train/test split\n",
    "X_train, X_test, y_train, y_test = train_test_split(\n",
    "    X, y, test_size=0.2, stratify=y, random_state=123456\n",
    ")"
   ]
  },
  {
   "cell_type": "markdown",
   "id": "2faf391b",
   "metadata": {},
   "source": [
    "3. Preprocessing Pipeline\n",
    "Purpose: One-hot encode categoricals, scale numerics."
   ]
  },
  {
   "cell_type": "code",
   "execution_count": 4,
   "id": "a2f61e6b",
   "metadata": {},
   "outputs": [],
   "source": [
    "# 4. Preprocessing Pipeline\n",
    "numeric_transformer = Pipeline([('scaler', StandardScaler())])\n",
    "categorical_transformer = Pipeline([\n",
    "    ('onehot', OneHotEncoder(handle_unknown='ignore', sparse_output=False))\n",
    "])\n",
    "preprocessor = ColumnTransformer(transformers=[\n",
    "    ('num', numeric_transformer, numeric_features),\n",
    "    ('cat', categorical_transformer, categorical_features)\n",
    "])"
   ]
  },
  {
   "cell_type": "markdown",
   "id": "b633cf03",
   "metadata": {},
   "source": [
    "4. Model Pipelines and Hyperparameter Grids\n",
    "Purpose: Define models and tuning options, all within pipelines."
   ]
  },
  {
   "cell_type": "code",
   "execution_count": 5,
   "id": "c94ca568",
   "metadata": {},
   "outputs": [],
   "source": [
    "# 5. Define all models, parameter grids, and a results placeholder in one dictionary\n",
    "models = {\n",
    "    \"GLM\": {\n",
    "        \"estimator\": Pipeline([\n",
    "            (\"preprocessor\", preprocessor),\n",
    "            (\"classifier\", LogisticRegression(solver='lbfgs', max_iter=2000, random_state=123456))\n",
    "        ]),\n",
    "        \"param_grid\": {\n",
    "            \"classifier__C\": np.logspace(-3, 2, 10)\n",
    "        },\n",
    "        \"results\": {}\n",
    "    },\n",
    "    \"SVM\": {\n",
    "        \"estimator\": Pipeline([\n",
    "            (\"preprocessor\", preprocessor),\n",
    "            (\"classifier\", SVC(probability=True, kernel=\"rbf\", random_state=123456))\n",
    "        ]),\n",
    "        \"param_grid\": {\n",
    "            \"classifier__C\": [0.25, 1, 1.5, 2, 5],\n",
    "            \"classifier__gamma\": [0, 0.5, 1.5]\n",
    "        },\n",
    "        \"results\": {}\n",
    "    },\n",
    "    \"RandomForest\": {\n",
    "        \"estimator\": Pipeline([\n",
    "            (\"preprocessor\", preprocessor),\n",
    "            (\"classifier\", RandomForestClassifier(n_estimators=600, random_state=123456))\n",
    "        ]),\n",
    "        \"param_grid\": {\n",
    "            \"classifier__max_features\": [\"sqrt\", \"log2\", None]\n",
    "        },\n",
    "        \"results\": {}\n",
    "    },\n",
    "    \"KNN\": {\n",
    "        \"estimator\": Pipeline([\n",
    "            (\"preprocessor\", preprocessor),\n",
    "            (\"classifier\", KNeighborsClassifier())\n",
    "        ]),\n",
    "        \"param_grid\": {\n",
    "            \"classifier__n_neighbors\": [3, 5, 7, 9, 11],\n",
    "            \"classifier__weights\": [\"uniform\", \"distance\"]\n",
    "        },\n",
    "        \"results\": {}\n",
    "    }\n",
    "}\n",
    "\n",
    "cv = StratifiedKFold(n_splits=5, shuffle=True, random_state=123456)"
   ]
  },
  {
   "cell_type": "markdown",
   "id": "309399a5",
   "metadata": {},
   "source": [
    "5. Model Selection and Hyperparameter Tuning\n",
    "Purpose: Use cross-validation for model selection and tuning."
   ]
  },
  {
   "cell_type": "code",
   "execution_count": 6,
   "id": "d5007498",
   "metadata": {},
   "outputs": [
    {
     "name": "stdout",
     "output_type": "stream",
     "text": [
      "\n",
      "==== GLM ====\n",
      "Best params: {'classifier__C': np.float64(0.046415888336127795)}\n",
      "Best CV ROC-AUC: 0.9652584852815002\n",
      "Test set AUC: 0.9779649595687332\n",
      "Cross-validated AUCs: [0.9640877  0.95609224 0.96903442 0.97208852 0.96498956]\n",
      "\n",
      "Top GLM Features by absolute coefficient:\n",
      "                   feature  coefficient  abs_coef\n",
      "10                    TSH     1.934233  1.934233\n",
      "3            on_thyroxine    -0.842847  0.842847\n",
      "2                      T3     0.705797  0.705797\n",
      "8         thyroid_surgery    -0.504039  0.504039\n",
      "4                     FTI     0.311333  0.311333\n",
      "11     query_hyperthyroid     0.268065  0.268065\n",
      "16  referral_source_other     0.246281  0.246281\n",
      "9                     T4U    -0.226712  0.226712\n",
      "13   referral_source_SVHC    -0.182703  0.182703\n",
      "15    referral_source_SVI    -0.163649  0.163649\n",
      "\n",
      "==== SVM ====\n",
      "Best params: {'classifier__C': 1, 'classifier__gamma': 0.5}\n",
      "Best CV ROC-AUC: 0.982835614711334\n",
      "Test set AUC: 0.9867828263380825\n",
      "Cross-validated AUCs: [0.98989733 0.97656659 0.98502533 0.97708352 0.9856053 ]\n",
      "\n",
      "==== RandomForest ====\n",
      "Best params: {'classifier__max_features': 'sqrt'}\n",
      "Best CV ROC-AUC: 0.994309487980374\n",
      "Test set AUC: 0.9976800154023874\n",
      "Cross-validated AUCs: [0.99548668 0.98837296 0.99636095 0.99470227 0.99662459]\n",
      "\n",
      "Top RF Features by importance:\n",
      "                   feature  importance\n",
      "10                    TSH    0.472332\n",
      "4                     FTI    0.183238\n",
      "2                      T3    0.137178\n",
      "3            on_thyroxine    0.056081\n",
      "9                     T4U    0.055393\n",
      "5                     age    0.045697\n",
      "8         thyroid_surgery    0.011155\n",
      "11     query_hyperthyroid    0.010598\n",
      "16  referral_source_other    0.005993\n",
      "1                   tumor    0.005231\n",
      "\n",
      "==== KNN ====\n",
      "Best params: {'classifier__n_neighbors': 11, 'classifier__weights': 'distance'}\n",
      "Best CV ROC-AUC: 0.9654266715256359\n",
      "Test set AUC: 0.9793367346938776\n",
      "Cross-validated AUCs: [0.95231868 0.95952207 0.95074201 0.98194987 0.98260073]\n"
     ]
    }
   ],
   "source": [
    "# 6. Training, tuning, storing results, and feature importance\n",
    "for name, model in models.items():\n",
    "    print(f\"\\n==== {name} ====\")\n",
    "    grid = GridSearchCV(model[\"estimator\"], model[\"param_grid\"], cv=cv, scoring=\"roc_auc\", n_jobs=-1, return_train_score=True)\n",
    "    grid.fit(X_train, y_train)\n",
    "    model[\"grid\"] = grid  # store fitted GridSearchCV\n",
    "    model[\"results\"][\"best_params\"] = grid.best_params_\n",
    "    model[\"results\"][\"best_cv_auc\"] = grid.best_score_\n",
    "    print(\"Best params:\", grid.best_params_)\n",
    "    print(\"Best CV ROC-AUC:\", grid.best_score_)\n",
    "\n",
    "    # Test set evaluation\n",
    "    y_pred = grid.predict(X_test)\n",
    "    y_proba = grid.predict_proba(X_test)[:,1]\n",
    "    model[\"results\"][\"test_auc\"] = roc_auc_score(y_test, y_proba)\n",
    "    model[\"results\"][\"test_accuracy\"] = accuracy_score(y_test, y_pred)\n",
    "    model[\"results\"][\"test_precision\"] = precision_score(y_test, y_pred)\n",
    "    model[\"results\"][\"test_recall\"] = recall_score(y_test, y_pred)\n",
    "    model[\"results\"][\"test_f1\"] = f1_score(y_test, y_pred)\n",
    "    model[\"results\"][\"confusion_matrix\"] = confusion_matrix(y_test, y_pred)\n",
    "    print(\"Test set AUC:\", model[\"results\"][\"test_auc\"])\n",
    "\n",
    "    # Store cross-val AUCs for boxplot\n",
    "    model[\"results\"][\"cv_aucs\"] = cross_val_score(grid.best_estimator_, X_train, y_train, cv=cv, scoring=\"roc_auc\")\n",
    "    print(\"Cross-validated AUCs:\", model[\"results\"][\"cv_aucs\"])\n",
    "\n",
    "    # Feature importance for GLM and RF\n",
    "    if name == \"GLM\":\n",
    "        coef = grid.best_estimator_.named_steps['classifier'].coef_[0]\n",
    "        ohe = grid.best_estimator_.named_steps['preprocessor'].named_transformers_['cat'].named_steps['onehot']\n",
    "        cat_names = ohe.get_feature_names_out(categorical_features) if categorical_features else []\n",
    "        all_feature_names = numeric_features + list(cat_names)\n",
    "        importance = pd.DataFrame({\"feature\": all_feature_names, \"coefficient\": coef})\n",
    "        importance['abs_coef'] = importance['coefficient'].abs()\n",
    "        importance = importance.sort_values('abs_coef', ascending=False)\n",
    "        print(\"\\nTop GLM Features by absolute coefficient:\\n\", importance.head(10))\n",
    "        model[\"results\"][\"feature_importance\"] = importance\n",
    "\n",
    "    if name == \"RandomForest\":\n",
    "        importances = grid.best_estimator_.named_steps['classifier'].feature_importances_\n",
    "        ohe = grid.best_estimator_.named_steps['preprocessor'].named_transformers_['cat'].named_steps['onehot']\n",
    "        cat_names = ohe.get_feature_names_out(categorical_features) if categorical_features else []\n",
    "        all_feature_names = numeric_features + list(cat_names)\n",
    "        importance = pd.DataFrame({\"feature\": all_feature_names, \"importance\": importances})\n",
    "        importance = importance.sort_values('importance', ascending=False)\n",
    "        print(\"\\nTop RF Features by importance:\\n\", importance.head(10))\n",
    "        model[\"results\"][\"feature_importance\"] = importance\n"
   ]
  },
  {
   "cell_type": "markdown",
   "id": "a5e3f7e3",
   "metadata": {},
   "source": [
    "6. Model Evaluation and Visualization\n",
    "Purpose: ROC curves, metrics, confusion matrix, learning curves."
   ]
  },
  {
   "cell_type": "code",
   "execution_count": 7,
   "id": "510739bd",
   "metadata": {},
   "outputs": [
    {
     "data": {
      "image/png": "[encoded data removed]",
      "text/plain": [
       "<Figure size 800x600 with 1 Axes>"
      ]
     },
     "metadata": {},
     "output_type": "display_data"
    }
   ],
   "source": [
    "# 7. Compare and visualize results\n",
    "\n",
    "# ROC curves for all models\n",
    "plt.figure(figsize=(8,6))\n",
    "for name, model in models.items():\n",
    "    grid = model[\"grid\"]\n",
    "    y_proba = grid.predict_proba(X_test)[:,1]\n",
    "    fpr, tpr, _ = roc_curve(y_test, y_proba)\n",
    "    auc = roc_auc_score(y_test, y_proba)\n",
    "    plt.plot(fpr, tpr, label=f\"{name} (AUC: {auc:.2f})\")\n",
    "plt.plot([0,1],[0,1],'--', color='gray')\n",
    "plt.xlabel(\"False Positive Rate\")\n",
    "plt.ylabel(\"True Positive Rate\")\n",
    "plt.title(\"ROC Curves\")\n",
    "plt.legend()\n",
    "plt.show()\n"
   ]
  },
  {
   "cell_type": "code",
   "execution_count": 8,
   "id": "e751afaf",
   "metadata": {},
   "outputs": [
    {
     "data": {
      "image/png": "[encoded data removed]",
      "text/plain": [
       "<Figure size 700x400 with 1 Axes>"
      ]
     },
     "metadata": {},
     "output_type": "display_data"
    }
   ],
   "source": [
    "# Boxplot of CV AUCs\n",
    "cv_auc_dict = {name: model[\"results\"][\"cv_aucs\"] for name, model in models.items() if \"cv_aucs\" in model[\"results\"]}\n",
    "cv_auc_df = pd.DataFrame(cv_auc_dict)\n",
    "plt.figure(figsize=(7,4))\n",
    "sns.boxplot(data=cv_auc_df)\n",
    "plt.ylabel(\"ROC-AUC (CV)\")\n",
    "plt.title(\"Model ROC-AUC Resampling Distribution\")\n",
    "plt.tight_layout()\n",
    "plt.show()"
   ]
  },
  {
   "cell_type": "code",
   "execution_count": 9,
   "id": "5e23aae9",
   "metadata": {},
   "outputs": [
    {
     "name": "stdout",
     "output_type": "stream",
     "text": [
      "\n",
      "GLM Confusion Matrix:\n",
      " [[1049   11]\n",
      " [  48   50]]\n",
      "\n",
      "SVM Confusion Matrix:\n",
      " [[1053    7]\n",
      " [  38   60]]\n",
      "\n",
      "RandomForest Confusion Matrix:\n",
      " [[1050   10]\n",
      " [   9   89]]\n",
      "\n",
      "KNN Confusion Matrix:\n",
      " [[1048   12]\n",
      " [  33   65]]\n"
     ]
    }
   ],
   "source": [
    "\n",
    "# Show confusion matrix for each model\n",
    "for name, model in models.items():\n",
    "    print(f\"\\n{name} Confusion Matrix:\\n\", model[\"results\"][\"confusion_matrix\"])"
   ]
  },
  {
   "cell_type": "code",
   "execution_count": 10,
   "id": "7af1d0b6",
   "metadata": {},
   "outputs": [
    {
     "name": "stdout",
     "output_type": "stream",
     "text": [
      "\n",
      "Model Performance Metrics:\n",
      "           Model  Test AUC  Accuracy  Precision    Recall        F1\n",
      "0           GLM  0.977965  0.949050   0.819672  0.510204  0.628931\n",
      "1           SVM  0.986783  0.961140   0.895522  0.612245  0.727273\n",
      "2  RandomForest  0.997680  0.983592   0.898990  0.908163  0.903553\n",
      "3           KNN  0.979337  0.961140   0.844156  0.663265  0.742857\n"
     ]
    }
   ],
   "source": [
    "# Metrics DataFrame for summary\n",
    "metrics = []\n",
    "for name, model in models.items():\n",
    "    r = model[\"results\"]\n",
    "    metrics.append({\n",
    "        \"Model\": name,\n",
    "        \"Test AUC\": r[\"test_auc\"],\n",
    "        \"Accuracy\": r[\"test_accuracy\"],\n",
    "        \"Precision\": r[\"test_precision\"],\n",
    "        \"Recall\": r[\"test_recall\"],\n",
    "        \"F1\": r[\"test_f1\"]\n",
    "    })\n",
    "summary = pd.DataFrame(metrics)\n",
    "print(\"\\nModel Performance Metrics:\\n\", summary)"
   ]
  },
  {
   "cell_type": "markdown",
   "id": "88c70e6c",
   "metadata": {},
   "source": [
    "## Conclusion : \n",
    "**Best Model**\n",
    "- Random Forest is the best performing model on this dataset, achieving the highest test set ROC-AUC (0.9976), accuracy (0.98), precision (0.90), recall (0.91), and F1 score (0.90).\n",
    "- SVM and KNN also performed well (AUCs ≈ 0.98–0.99), but consistently below Random Forest.\n",
    "- GLM (Logistic Regression) was outperformed by the others, especially in recall and F1-score (0.51 and 0.63, respectively).\n",
    "\n",
    "**Rationale for Random Forest Superiority**\n",
    "- Ensemble learning: RF combines multiple trees and naturally handles feature interactions and non-linearities, which are common in medical data.\n",
    "- Balanced Performance: RF achieved a perfect balance of high precision (low false positives), high recall (low false negatives), and thus the highest F1-score.\n",
    "- Generalization: The cross-validated AUCs are consistently high (≈0.99+), indicating robustness and low overfitting.\n",
    "\n",
    "**Key Feature for Thyroid Disease Prediction**\n",
    "Top predictor (from GLM and RF): TSH (Thyroid Stimulating Hormone). This feature was selected by LASSO regularization and/or ranked highly in feature importance.\n",
    "\n"
   ]
  }
 ],
 "metadata": {
  "kernelspec": {
   "display_name": "Python 3",
   "language": "python",
   "name": "python3"
  },
  "language_info": {
   "codemirror_mode": {
    "name": "ipython",
    "version": 3
   },
   "file_extension": ".py",
   "mimetype": "text/x-python",
   "name": "python",
   "nbconvert_exporter": "python",
   "pygments_lexer": "ipython3",
   "version": "3.11.5"
  }
 },
 "nbformat": 4,
 "nbformat_minor": 5
}
