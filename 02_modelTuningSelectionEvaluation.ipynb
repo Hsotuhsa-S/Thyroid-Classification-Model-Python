{
 "cells": [
  {
   "cell_type": "markdown",
   "id": "76af919d",
   "metadata": {},
   "source": [
    "# Comparative Analysis of Thyroid Disease Classification Models\n",
    "\n",
    "**Author:** Ashutosh Shirsat  \n",
    "**Project:** Data Science/ML   \n",
    "**Objective:** Compare and evaluate three different models, namely Generalized Linear Model (GLM), Support Vector Machines (SVM), Random Forest (RF) and K-Nearest Neighbour (KNN) to determine the most suitable model for accurate predictions on this dataset."
   ]
  },
  {
   "cell_type": "code",
   "execution_count": 13,
   "id": "463286be",
   "metadata": {},
   "outputs": [],
   "source": [
    "import pandas as pd\n",
    "import numpy as np\n",
    "from sklearn.model_selection import train_test_split, StratifiedKFold, GridSearchCV, learning_curve, cross_val_score\n",
    "from sklearn.preprocessing import StandardScaler, OneHotEncoder\n",
    "from sklearn.compose import ColumnTransformer\n",
    "from sklearn.pipeline import Pipeline\n",
    "from sklearn.linear_model import LogisticRegression\n",
    "from sklearn.svm import SVC\n",
    "from sklearn.ensemble import RandomForestClassifier\n",
    "from sklearn.neighbors import KNeighborsClassifier\n",
    "from sklearn.metrics import (\n",
    "    roc_auc_score, roc_curve, confusion_matrix, accuracy_score, precision_score, recall_score, f1_score\n",
    ")\n",
    "import matplotlib.pyplot as plt\n",
    "import seaborn as sns"
   ]
  },
  {
   "cell_type": "markdown",
   "id": "6e0be55a",
   "metadata": {},
   "source": [
    "1. Load and Prepare Data\n",
    "Purpose: Read the data, identify numeric and categorical features, set up target variable."
   ]
  },
  {
   "cell_type": "code",
   "execution_count": 14,
   "id": "e06c2612",
   "metadata": {},
   "outputs": [],
   "source": [
    "# 1a. Load your data\n",
    "target_col = 'thyroid'\n",
    "data = pd.read_csv(\"data/thyroidData_Lasso_featureselected.csv\")\n",
    "\n",
    "X = data.drop(columns=target_col)\n",
    "y = data[target_col].astype(int)\n",
    "\n",
    "# 2a. Identify feature types\n",
    "categorical_features = X.select_dtypes(include=['object', 'category']).columns.tolist()\n",
    "numeric_features = X.select_dtypes(include=[np.number, 'bool']).columns.tolist()"
   ]
  },
  {
   "cell_type": "code",
   "execution_count": 15,
   "id": "48aaaa4e",
   "metadata": {},
   "outputs": [],
   "source": [
    "# 1b. Load data for Random Forest Classifier - without lasso feature selection.\n",
    "data_RF = pd.read_csv(\"data/cleanThyroidData.csv\")\n",
    "\n",
    "X_RF = data_RF.drop(columns=target_col)\n",
    "y_RF = data_RF[target_col].astype(int)\n",
    "\n",
    "# 2b. Identify feature types\n",
    "categorical_features_RF = X_RF.select_dtypes(include=['object', 'category']).columns.tolist()\n",
    "numeric_features_RF = X_RF.select_dtypes(include=[np.number, 'bool']).columns.tolist()"
   ]
  },
  {
   "cell_type": "markdown",
   "id": "24a2b9f6",
   "metadata": {},
   "source": [
    "2. Train/Test Split\n",
    "Purpose: Split data so model evaluation is honest."
   ]
  },
  {
   "cell_type": "code",
   "execution_count": 16,
   "id": "110d8832",
   "metadata": {},
   "outputs": [],
   "source": [
    "# 3a. Train/test split\n",
    "X_train, X_test, y_train, y_test = train_test_split(\n",
    "    X, y, test_size=0.2, stratify=y, random_state=123456\n",
    ")\n",
    "# 3b. Train/test split for Random Forest Classifier\n",
    "X_train_RF, X_test_RF, y_train_RF, y_test_RF = train_test_split(\n",
    "    X_RF, y_RF, test_size=0.2, stratify=y_RF, random_state=123456\n",
    ")"
   ]
  },
  {
   "cell_type": "markdown",
   "id": "2faf391b",
   "metadata": {},
   "source": [
    "3. Preprocessing Pipeline\n",
    "Purpose: One-hot encode categoricals, scale numerics."
   ]
  },
  {
   "cell_type": "code",
   "execution_count": 17,
   "id": "a2f61e6b",
   "metadata": {},
   "outputs": [],
   "source": [
    "# 4. Preprocessing Pipeline\n",
    "numeric_transformer = Pipeline([('scaler', StandardScaler())])\n",
    "categorical_transformer = Pipeline([\n",
    "    ('onehot', OneHotEncoder(handle_unknown='ignore', sparse_output=False))\n",
    "])\n",
    "\n",
    "# 4a. Preprocessing Pipeline for Logistic Regression, SVM, KNN\n",
    "preprocessor = ColumnTransformer(transformers=[\n",
    "    ('num', numeric_transformer, numeric_features),\n",
    "    ('cat', categorical_transformer, categorical_features)\n",
    "\n",
    "    \n",
    "])# 4b. Preprocessing Pipeline for Random Forest Classifier\n",
    "preprocessor_RF = ColumnTransformer(transformers=[\n",
    "    ('num', numeric_transformer, numeric_features_RF),\n",
    "    ('cat', categorical_transformer, categorical_features_RF)\n",
    "])\n",
    "\n"
   ]
  },
  {
   "cell_type": "markdown",
   "id": "b633cf03",
   "metadata": {},
   "source": [
    "4. Model Pipelines and Hyperparameter Grids\n",
    "Purpose: Define models and tuning options, all within pipelines."
   ]
  },
  {
   "cell_type": "code",
   "execution_count": 18,
   "id": "c94ca568",
   "metadata": {},
   "outputs": [],
   "source": [
    "# 5. Define model pipelines, hyperparameter grids, and results dictionary for all classifiers\n",
    "models = {\n",
    "    \"GLM\": {\n",
    "        \"estimator\": Pipeline([\n",
    "            (\"preprocessor\", preprocessor),\n",
    "            (\"classifier\", LogisticRegression(solver='lbfgs', max_iter=2000, random_state=123456))\n",
    "        ]),\n",
    "        \"param_grid\": {\n",
    "            \"classifier__C\": np.logspace(-3, 2, 10)\n",
    "        },\n",
    "        \"results\": {}\n",
    "    },\n",
    "    \"SVM\": {\n",
    "        \"estimator\": Pipeline([\n",
    "            (\"preprocessor\", preprocessor),\n",
    "            (\"classifier\", SVC(probability=True, kernel=\"rbf\", random_state=123456))\n",
    "        ]),\n",
    "        \"param_grid\": {\n",
    "            \"classifier__C\": [0.25, 1, 1.5, 2, 5],\n",
    "            \"classifier__gamma\": [0, 0.5, 1.5]\n",
    "        },\n",
    "        \"results\": {}\n",
    "    },\n",
    "    \"RandomForest\": {\n",
    "        \"estimator\": Pipeline([\n",
    "            (\"preprocessor\", preprocessor_RF),\n",
    "            (\"classifier\", RandomForestClassifier(n_estimators=600, random_state=123456))\n",
    "        ]),\n",
    "        \"param_grid\": {\n",
    "            \"classifier__max_features\": [\"sqrt\", \"log2\", None]\n",
    "        },\n",
    "        \"results\": {}\n",
    "    },\n",
    "    \"KNN\": {\n",
    "        \"estimator\": Pipeline([\n",
    "            (\"preprocessor\", preprocessor),\n",
    "            (\"classifier\", KNeighborsClassifier())\n",
    "        ]),\n",
    "        \"param_grid\": {\n",
    "            \"classifier__n_neighbors\": [3, 5, 7, 9, 11],\n",
    "            \"classifier__weights\": [\"uniform\", \"distance\"]\n",
    "        },\n",
    "        \"results\": {}\n",
    "    }\n",
    "}\n",
    "\n",
    "# The following defines a 5-fold stratified cross-validation splitter for use in model selection and hyperparameter tuning.\n",
    "# StratifiedKFold ensures each fold preserves the percentage of samples for each class, which is important for imbalanced datasets.\n",
    "cv = StratifiedKFold(n_splits=5, shuffle=True, random_state=123456)"
   ]
  },
  {
   "cell_type": "markdown",
   "id": "309399a5",
   "metadata": {},
   "source": [
    "5. Model Selection and Hyperparameter Tuning\n",
    "Purpose: Use cross-validation for model selection and tuning."
   ]
  },
  {
   "cell_type": "code",
   "execution_count": 19,
   "id": "d5007498",
   "metadata": {},
   "outputs": [],
   "source": [
    "# This function trains and evaluates a model using GridSearchCV with cross-validation.\n",
    "def train_and_evaluate(model_name, model_dict, X_train, X_test, y_train, y_test, numeric_features, categorical_features):\n",
    "    # This function performs model training and evaluation for a given model.\n",
    "    # It uses GridSearchCV for hyperparameter tuning with cross-validation,\n",
    "    # fits the model on the training data, evaluates on the test data,\n",
    "    # and stores results (best params, metrics, feature importance) in the model_dict.\n",
    "    #\n",
    "    # Parameters:\n",
    "    #   model_name (str): Name of the model (e.g., \"GLM\", \"SVM\", \"RandomForest\", \"KNN\").\n",
    "    #   model_dict (dict): Dictionary containing the estimator pipeline, param_grid, and results.\n",
    "    #   X_train (pd.DataFrame): Training features.\n",
    "    #   X_test (pd.DataFrame): Test features.\n",
    "    #   y_train (pd.Series): Training target.\n",
    "    #   y_test (pd.Series): Test target.\n",
    "    #   numeric_features (list): List of numeric feature names.\n",
    "    #   categorical_features (list): List of categorical feature names.\n",
    "    #\n",
    "    # Returns:\n",
    "    #   dict: Updated model_dict with fitted grid, best params, metrics, and feature importance.\n",
    "    \n",
    "    print(f\"\\n==== {model_name} ====\")\n",
    "    grid = GridSearchCV(model_dict[\"estimator\"], model_dict[\"param_grid\"], cv=cv, scoring=\"roc_auc\", n_jobs=-1, return_train_score=True)\n",
    "    grid.fit(X_train, y_train)\n",
    "    model_dict[\"grid\"] = grid\n",
    "    model_dict[\"results\"][\"best_params\"] = grid.best_params_\n",
    "    model_dict[\"results\"][\"best_cv_auc\"] = grid.best_score_\n",
    "    print(\"Best params:\", grid.best_params_)\n",
    "    print(\"Best CV ROC-AUC:\", grid.best_score_)\n",
    "\n",
    "    # Test set evaluation\n",
    "    y_pred = grid.predict(X_test)\n",
    "    y_proba = grid.predict_proba(X_test)[:,1]\n",
    "    model_dict[\"results\"][\"test_auc\"] = roc_auc_score(y_test, y_proba)\n",
    "    model_dict[\"results\"][\"test_accuracy\"] = accuracy_score(y_test, y_pred)\n",
    "    model_dict[\"results\"][\"test_precision\"] = precision_score(y_test, y_pred)\n",
    "    model_dict[\"results\"][\"test_recall\"] = recall_score(y_test, y_pred)\n",
    "    model_dict[\"results\"][\"test_f1\"] = f1_score(y_test, y_pred)\n",
    "    model_dict[\"results\"][\"confusion_matrix\"] = confusion_matrix(y_test, y_pred)\n",
    "    print(\"Test set AUC:\", model_dict[\"results\"][\"test_auc\"])\n",
    "\n",
    "    # Store cross-val AUCs for boxplot\n",
    "    model_dict[\"results\"][\"cv_aucs\"] = cross_val_score(grid.best_estimator_, X_train, y_train, cv=cv, scoring=\"roc_auc\")\n",
    "    print(\"Cross-validated AUCs:\", model_dict[\"results\"][\"cv_aucs\"])\n",
    "\n",
    "    # Feature importance for GLM and RF\n",
    "    if model_name == \"GLM\":\n",
    "        coef = grid.best_estimator_.named_steps['classifier'].coef_[0]\n",
    "        ohe = grid.best_estimator_.named_steps['preprocessor'].named_transformers_['cat'].named_steps['onehot']\n",
    "        cat_names = ohe.get_feature_names_out(categorical_features) if categorical_features else []\n",
    "        all_feature_names = numeric_features + list(cat_names)\n",
    "        importance = pd.DataFrame({\"feature\": all_feature_names, \"coefficient\": coef})\n",
    "        importance['abs_coef'] = importance['coefficient'].abs()\n",
    "        importance = importance.sort_values('abs_coef', ascending=False)\n",
    "        print(\"\\nTop GLM Features by absolute coefficient:\\n\", importance.head(10))\n",
    "        model_dict[\"results\"][\"feature_importance\"] = importance\n",
    "\n",
    "    if model_name == \"RandomForest\":\n",
    "        importances = grid.best_estimator_.named_steps['classifier'].feature_importances_\n",
    "        ohe = grid.best_estimator_.named_steps['preprocessor'].named_transformers_['cat'].named_steps['onehot']\n",
    "        cat_names = ohe.get_feature_names_out(categorical_features) if categorical_features else []\n",
    "        all_feature_names = numeric_features + list(cat_names)\n",
    "        importance = pd.DataFrame({\"feature\": all_feature_names, \"importance\": importances})\n",
    "        importance = importance.sort_values('importance', ascending=False)\n",
    "        print(\"\\nTop RF Features by importance:\\n\", importance)\n",
    "        model_dict[\"results\"][\"feature_importance\"] = importance\n",
    "    return model_dict\n"
   ]
  },
  {
   "cell_type": "code",
   "execution_count": 20,
   "id": "6ce89af8",
   "metadata": {},
   "outputs": [
    {
     "name": "stdout",
     "output_type": "stream",
     "text": [
      "\n",
      "==== GLM ====\n",
      "Best params: {'classifier__C': np.float64(0.046415888336127795)}\n",
      "Best CV ROC-AUC: 0.9652584852815002\n",
      "Test set AUC: 0.9779649595687332\n",
      "Cross-validated AUCs: [0.9640877  0.95609224 0.96903442 0.97208852 0.96498956]\n",
      "\n",
      "Top GLM Features by absolute coefficient:\n",
      "                   feature  coefficient  abs_coef\n",
      "10                    TSH     1.934233  1.934233\n",
      "11           on_thyroxine    -0.842847  0.842847\n",
      "3                      T3     0.705797  0.705797\n",
      "6         thyroid_surgery    -0.504039  0.504039\n",
      "0                     FTI     0.311333  0.311333\n",
      "9      query_hyperthyroid     0.268065  0.268065\n",
      "16  referral_source_other     0.246281  0.246281\n",
      "1                     T4U    -0.226712  0.226712\n",
      "13   referral_source_SVHC    -0.182703  0.182703\n",
      "15    referral_source_SVI    -0.163649  0.163649\n",
      "\n",
      "==== SVM ====\n",
      "Best params: {'classifier__C': 1, 'classifier__gamma': 0.5}\n",
      "Best CV ROC-AUC: 0.982835614711334\n",
      "Test set AUC: 0.9867828263380825\n",
      "Cross-validated AUCs: [0.98989733 0.97656659 0.98502533 0.97708352 0.9856053 ]\n",
      "\n",
      "==== KNN ====\n",
      "Best params: {'classifier__n_neighbors': 11, 'classifier__weights': 'distance'}\n",
      "Best CV ROC-AUC: 0.9654266715256359\n",
      "Test set AUC: 0.9793367346938776\n",
      "Cross-validated AUCs: [0.95231868 0.95952207 0.95074201 0.98194987 0.98260073]\n"
     ]
    }
   ],
   "source": [
    "# Train and evaluate GLM, SVM, KNN (use lasso-selected features and X_train/X_test)\n",
    "for name in [\"GLM\", \"SVM\", \"KNN\"]:\n",
    "    train_and_evaluate(\n",
    "        name,\n",
    "        models[name],\n",
    "        X_train,\n",
    "        X_test,\n",
    "        y_train,\n",
    "        y_test,\n",
    "        numeric_features,\n",
    "        categorical_features\n",
    "    );"
   ]
  },
  {
   "cell_type": "code",
   "execution_count": 21,
   "id": "8130c64d",
   "metadata": {},
   "outputs": [
    {
     "name": "stdout",
     "output_type": "stream",
     "text": [
      "\n",
      "==== RandomForest ====\n",
      "Best params: {'classifier__max_features': None}\n",
      "Best CV ROC-AUC: 0.9951388848972279\n",
      "Test set AUC: 0.9989747785906815\n",
      "Cross-validated AUCs: [0.99728752 0.98808901 0.99546426 0.99741925 0.99743438]\n",
      "\n",
      "Top RF Features by importance:\n",
      "                   feature  importance\n",
      "15                    TSH    0.525569\n",
      "16                     T3    0.122801\n",
      "20                    FTI    0.112228\n",
      "1            on_thyroxine    0.081122\n",
      "17                    TT4    0.053256\n",
      "19                    T4U    0.034627\n",
      "0                     age    0.020380\n",
      "6         thyroid_surgery    0.018525\n",
      "3     on_antithyroid_meds    0.008227\n",
      "12                  tumor    0.004438\n",
      "9      query_hyperthyroid    0.004284\n",
      "7          I131_treatment    0.003988\n",
      "4                    sick    0.002369\n",
      "23   referral_source_STMW    0.001457\n",
      "22               sex_male    0.001382\n",
      "21             sex_Female    0.001355\n",
      "27  referral_source_other    0.001205\n",
      "25   referral_source_SVHD    0.000665\n",
      "26    referral_source_SVI    0.000638\n",
      "8       query_hypothyroid    0.000632\n",
      "5                pregnant    0.000476\n",
      "24   referral_source_SVHC    0.000254\n",
      "11                 goitre    0.000080\n",
      "14                  psych    0.000031\n",
      "10                lithium    0.000011\n",
      "2      query_on_thyroxine    0.000000\n",
      "18           T4U_measured    0.000000\n",
      "13          hypopituitary    0.000000\n"
     ]
    }
   ],
   "source": [
    "# Train and evaluate RandomForest (use full features and X_train_RF/X_test_RF)\n",
    "train_and_evaluate(\n",
    "    \"RandomForest\",\n",
    "    models[\"RandomForest\"],\n",
    "    X_train_RF,\n",
    "    X_test_RF,\n",
    "    y_train_RF,\n",
    "    y_test_RF,\n",
    "    numeric_features_RF,\n",
    "    categorical_features_RF\n",
    ");"
   ]
  },
  {
   "cell_type": "markdown",
   "id": "a5e3f7e3",
   "metadata": {},
   "source": [
    "6. Model Evaluation and Visualization\n",
    "Purpose: ROC curves, metrics, confusion matrix, learning curves."
   ]
  },
  {
   "cell_type": "code",
   "execution_count": 22,
   "id": "510739bd",
   "metadata": {},
   "outputs": [
    {
     "data": {
      "image/png": "[encoded data removed]",
      "text/plain": [
       "<Figure size 800x600 with 1 Axes>"
      ]
     },
     "metadata": {},
     "output_type": "display_data"
    }
   ],
   "source": [
    "# 7. Compare and visualize results\n",
    "\n",
    "# ROC curves for all models\n",
    "plt.figure(figsize=(8,6))\n",
    "for name, model in models.items():\n",
    "    grid = model[\"grid\"]\n",
    "    if name == \"RandomForest\":\n",
    "        X_eval = X_test_RF\n",
    "        y_eval = y_test_RF\n",
    "    else:\n",
    "        X_eval = X_test\n",
    "        y_eval = y_test\n",
    "    y_proba = grid.predict_proba(X_eval)[:,1]\n",
    "    fpr, tpr, _ = roc_curve(y_eval, y_proba)\n",
    "    auc = roc_auc_score(y_eval, y_proba)\n",
    "    plt.plot(fpr, tpr, label=f\"{name} (AUC: {auc:.2f})\")\n",
    "plt.plot([0,1],[0,1],'--', color='gray')\n",
    "plt.xlabel(\"False Positive Rate\")\n",
    "plt.ylabel(\"True Positive Rate\")\n",
    "plt.title(\"ROC Curves\")\n",
    "plt.legend()\n",
    "plt.show()"
   ]
  },
  {
   "cell_type": "code",
   "execution_count": 23,
   "id": "e751afaf",
   "metadata": {},
   "outputs": [
    {
     "data": {
      "image/png": "[encoded data removed]",
      "text/plain": [
       "<Figure size 700x400 with 1 Axes>"
      ]
     },
     "metadata": {},
     "output_type": "display_data"
    }
   ],
   "source": [
    "# Boxplot of CV AUCs\n",
    "cv_auc_dict = {name: model[\"results\"][\"cv_aucs\"] for name, model in models.items() if \"cv_aucs\" in model[\"results\"]}\n",
    "cv_auc_df = pd.DataFrame(cv_auc_dict)\n",
    "plt.figure(figsize=(7,4))\n",
    "sns.boxplot(data=cv_auc_df)\n",
    "plt.ylabel(\"ROC-AUC (CV)\")\n",
    "plt.title(\"Model ROC-AUC Resampling Distribution\")\n",
    "plt.tight_layout()\n",
    "plt.show()"
   ]
  },
  {
   "cell_type": "code",
   "execution_count": 24,
   "id": "5e23aae9",
   "metadata": {},
   "outputs": [
    {
     "name": "stdout",
     "output_type": "stream",
     "text": [
      "\n",
      "GLM Confusion Matrix:\n",
      " [[1049   11]\n",
      " [  48   50]]\n",
      "\n",
      "SVM Confusion Matrix:\n",
      " [[1053    7]\n",
      " [  38   60]]\n",
      "\n",
      "RandomForest Confusion Matrix:\n",
      " [[1059    1]\n",
      " [   6   92]]\n",
      "\n",
      "KNN Confusion Matrix:\n",
      " [[1048   12]\n",
      " [  33   65]]\n"
     ]
    }
   ],
   "source": [
    "\n",
    "# Show confusion matrix for each model\n",
    "for name, model in models.items():\n",
    "    print(f\"\\n{name} Confusion Matrix:\\n\", model[\"results\"][\"confusion_matrix\"])"
   ]
  },
  {
   "cell_type": "code",
   "execution_count": 25,
   "id": "7af1d0b6",
   "metadata": {},
   "outputs": [
    {
     "name": "stdout",
     "output_type": "stream",
     "text": [
      "\n",
      "Model Performance Metrics:\n",
      "           Model  Test AUC  Accuracy  Precision    Recall        F1\n",
      "0           GLM  0.977965  0.949050   0.819672  0.510204  0.628931\n",
      "1           SVM  0.986783  0.961140   0.895522  0.612245  0.727273\n",
      "2  RandomForest  0.998975  0.993955   0.989247  0.938776  0.963351\n",
      "3           KNN  0.979337  0.961140   0.844156  0.663265  0.742857\n"
     ]
    }
   ],
   "source": [
    "# Metrics DataFrame for summary\n",
    "metrics = []\n",
    "for name, model in models.items():\n",
    "    r = model[\"results\"]\n",
    "    metrics.append({\n",
    "        \"Model\": name,\n",
    "        \"Test AUC\": r[\"test_auc\"],\n",
    "        \"Accuracy\": r[\"test_accuracy\"],\n",
    "        \"Precision\": r[\"test_precision\"],\n",
    "        \"Recall\": r[\"test_recall\"],\n",
    "        \"F1\": r[\"test_f1\"]\n",
    "    })\n",
    "summary = pd.DataFrame(metrics)\n",
    "print(\"\\nModel Performance Metrics:\\n\", summary)"
   ]
  },
  {
   "cell_type": "markdown",
   "id": "88c70e6c",
   "metadata": {},
   "source": [
    "## Conclusion : \n",
    "**Best Model**\n",
    "- Random Forest is the best performing model on this dataset, achieving the highest test set ROC-AUC (0.9976), accuracy (0.98), precision (0.90), recall (0.91), and F1 score (0.90).\n",
    "- SVM and KNN also performed well (AUCs ≈ 0.98–0.99), but consistently below Random Forest.\n",
    "- GLM (Logistic Regression) was outperformed by the others, especially in recall and F1-score (0.51 and 0.63, respectively).\n",
    "\n",
    "**Rationale for Random Forest Superiority**\n",
    "- Ensemble learning: RF combines multiple trees and naturally handles feature interactions and non-linearities, which are common in medical data.\n",
    "- Balanced Performance: RF achieved a perfect balance of high precision (low false positives), high recall (low false negatives), and thus the highest F1-score.\n",
    "- Generalization: The cross-validated AUCs are consistently high (≈0.99+), indicating robustness and low overfitting.\n",
    "\n",
    "**Key Feature for Thyroid Disease Prediction**\n",
    "Top predictor (from GLM and RF): TSH (Thyroid Stimulating Hormone). This feature was selected by LASSO regularization and/or ranked highly in feature importance.\n",
    "\n"
   ]
  }
 ],
 "metadata": {
  "kernelspec": {
   "display_name": "Python 3",
   "language": "python",
   "name": "python3"
  },
  "language_info": {
   "codemirror_mode": {
    "name": "ipython",
    "version": 3
   },
   "file_extension": ".py",
   "mimetype": "text/x-python",
   "name": "python",
   "nbconvert_exporter": "python",
   "pygments_lexer": "ipython3",
   "version": "3.11.5"
  }
 },
 "nbformat": 4,
 "nbformat_minor": 5
}
