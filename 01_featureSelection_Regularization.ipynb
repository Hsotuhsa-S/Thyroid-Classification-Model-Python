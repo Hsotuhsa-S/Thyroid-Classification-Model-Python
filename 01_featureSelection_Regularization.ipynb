{
 "cells": [
  {
   "cell_type": "markdown",
   "id": "72126e05",
   "metadata": {},
   "source": [
    "## Feature Selection - Lasso Regularization\n",
    "\n",
    "- **Author:** Ashutosh Shirsat  \n",
    "- **Project:** Data Science/ML \n",
    "- **Objective:** feature selection - Lasso Regularization.  "
   ]
  },
  {
   "cell_type": "code",
   "execution_count": 1,
   "id": "d70c445a",
   "metadata": {},
   "outputs": [
    {
     "data": {
      "application/vnd.microsoft.datawrangler.viewer.v0+json": {
       "columns": [
        {
         "name": "index",
         "rawType": "int64",
         "type": "integer"
        },
        {
         "name": "age",
         "rawType": "int64",
         "type": "integer"
        },
        {
         "name": "sex",
         "rawType": "object",
         "type": "string"
        },
        {
         "name": "on_thyroxine",
         "rawType": "bool",
         "type": "boolean"
        },
        {
         "name": "query_on_thyroxine",
         "rawType": "bool",
         "type": "boolean"
        },
        {
         "name": "on_antithyroid_meds",
         "rawType": "bool",
         "type": "boolean"
        },
        {
         "name": "sick",
         "rawType": "bool",
         "type": "boolean"
        },
        {
         "name": "pregnant",
         "rawType": "bool",
         "type": "boolean"
        },
        {
         "name": "thyroid_surgery",
         "rawType": "bool",
         "type": "boolean"
        },
        {
         "name": "I131_treatment",
         "rawType": "bool",
         "type": "boolean"
        },
        {
         "name": "query_hypothyroid",
         "rawType": "bool",
         "type": "boolean"
        },
        {
         "name": "query_hyperthyroid",
         "rawType": "bool",
         "type": "boolean"
        },
        {
         "name": "lithium",
         "rawType": "bool",
         "type": "boolean"
        },
        {
         "name": "goitre",
         "rawType": "bool",
         "type": "boolean"
        },
        {
         "name": "tumor",
         "rawType": "bool",
         "type": "boolean"
        },
        {
         "name": "hypopituitary",
         "rawType": "bool",
         "type": "boolean"
        },
        {
         "name": "psych",
         "rawType": "bool",
         "type": "boolean"
        },
        {
         "name": "TSH",
         "rawType": "float64",
         "type": "float"
        },
        {
         "name": "T3",
         "rawType": "float64",
         "type": "float"
        },
        {
         "name": "TT4",
         "rawType": "float64",
         "type": "float"
        },
        {
         "name": "T4U_measured",
         "rawType": "bool",
         "type": "boolean"
        },
        {
         "name": "T4U",
         "rawType": "float64",
         "type": "float"
        },
        {
         "name": "FTI",
         "rawType": "float64",
         "type": "float"
        },
        {
         "name": "referral_source",
         "rawType": "object",
         "type": "string"
        }
       ],
       "ref": "fab40071-c1da-4fc8-b786-ea374c8bcad1",
       "rows": [
        [
         "0",
         "36",
         "Female",
         "False",
         "False",
         "False",
         "False",
         "False",
         "False",
         "False",
         "True",
         "True",
         "False",
         "False",
         "False",
         "False",
         "False",
         "2.079441541679836",
         "2.186051276738094",
         "90.0",
         "True",
         "2.0228711901914416",
         "85.0",
         "other"
        ],
        [
         "1",
         "40",
         "Female",
         "False",
         "False",
         "False",
         "False",
         "False",
         "False",
         "False",
         "False",
         "False",
         "False",
         "False",
         "False",
         "False",
         "False",
         "2.0412203288596382",
         "2.174751721484161",
         "104.0",
         "True",
         "2.0255131996542803",
         "96.0",
         "other"
        ],
        [
         "2",
         "40",
         "Female",
         "False",
         "False",
         "False",
         "False",
         "False",
         "False",
         "False",
         "False",
         "False",
         "False",
         "False",
         "False",
         "False",
         "False",
         "2.517696472610991",
         "2.151762203259462",
         "88.0",
         "True",
         "1.993338842626424",
         "105.0",
         "other"
        ],
        [
         "3",
         "77",
         "Female",
         "False",
         "False",
         "False",
         "False",
         "False",
         "False",
         "False",
         "False",
         "False",
         "False",
         "False",
         "False",
         "False",
         "False",
         "1.8794650496471603",
         "2.186051276738094",
         "107.0",
         "True",
         "2.032087845296365",
         "95.0",
         "other"
        ],
        [
         "4",
         "51",
         "Female",
         "False",
         "False",
         "False",
         "False",
         "False",
         "False",
         "False",
         "False",
         "False",
         "False",
         "False",
         "False",
         "False",
         "False",
         "1.8794650496471603",
         "2.151762203259462",
         "93.0",
         "True",
         "1.9974177062012453",
         "106.0",
         "SVI"
        ]
       ],
       "shape": {
        "columns": 23,
        "rows": 5
       }
      },
      "text/html": [
       "<div>\n",
       "<style scoped>\n",
       "    .dataframe tbody tr th:only-of-type {\n",
       "        vertical-align: middle;\n",
       "    }\n",
       "\n",
       "    .dataframe tbody tr th {\n",
       "        vertical-align: top;\n",
       "    }\n",
       "\n",
       "    .dataframe thead th {\n",
       "        text-align: right;\n",
       "    }\n",
       "</style>\n",
       "<table border=\"1\" class=\"dataframe\">\n",
       "  <thead>\n",
       "    <tr style=\"text-align: right;\">\n",
       "      <th></th>\n",
       "      <th>age</th>\n",
       "      <th>sex</th>\n",
       "      <th>on_thyroxine</th>\n",
       "      <th>query_on_thyroxine</th>\n",
       "      <th>on_antithyroid_meds</th>\n",
       "      <th>sick</th>\n",
       "      <th>pregnant</th>\n",
       "      <th>thyroid_surgery</th>\n",
       "      <th>I131_treatment</th>\n",
       "      <th>query_hypothyroid</th>\n",
       "      <th>...</th>\n",
       "      <th>tumor</th>\n",
       "      <th>hypopituitary</th>\n",
       "      <th>psych</th>\n",
       "      <th>TSH</th>\n",
       "      <th>T3</th>\n",
       "      <th>TT4</th>\n",
       "      <th>T4U_measured</th>\n",
       "      <th>T4U</th>\n",
       "      <th>FTI</th>\n",
       "      <th>referral_source</th>\n",
       "    </tr>\n",
       "  </thead>\n",
       "  <tbody>\n",
       "    <tr>\n",
       "      <th>0</th>\n",
       "      <td>36</td>\n",
       "      <td>Female</td>\n",
       "      <td>False</td>\n",
       "      <td>False</td>\n",
       "      <td>False</td>\n",
       "      <td>False</td>\n",
       "      <td>False</td>\n",
       "      <td>False</td>\n",
       "      <td>False</td>\n",
       "      <td>True</td>\n",
       "      <td>...</td>\n",
       "      <td>False</td>\n",
       "      <td>False</td>\n",
       "      <td>False</td>\n",
       "      <td>2.079442</td>\n",
       "      <td>2.186051</td>\n",
       "      <td>90.0</td>\n",
       "      <td>True</td>\n",
       "      <td>2.022871</td>\n",
       "      <td>85.0</td>\n",
       "      <td>other</td>\n",
       "    </tr>\n",
       "    <tr>\n",
       "      <th>1</th>\n",
       "      <td>40</td>\n",
       "      <td>Female</td>\n",
       "      <td>False</td>\n",
       "      <td>False</td>\n",
       "      <td>False</td>\n",
       "      <td>False</td>\n",
       "      <td>False</td>\n",
       "      <td>False</td>\n",
       "      <td>False</td>\n",
       "      <td>False</td>\n",
       "      <td>...</td>\n",
       "      <td>False</td>\n",
       "      <td>False</td>\n",
       "      <td>False</td>\n",
       "      <td>2.041220</td>\n",
       "      <td>2.174752</td>\n",
       "      <td>104.0</td>\n",
       "      <td>True</td>\n",
       "      <td>2.025513</td>\n",
       "      <td>96.0</td>\n",
       "      <td>other</td>\n",
       "    </tr>\n",
       "    <tr>\n",
       "      <th>2</th>\n",
       "      <td>40</td>\n",
       "      <td>Female</td>\n",
       "      <td>False</td>\n",
       "      <td>False</td>\n",
       "      <td>False</td>\n",
       "      <td>False</td>\n",
       "      <td>False</td>\n",
       "      <td>False</td>\n",
       "      <td>False</td>\n",
       "      <td>False</td>\n",
       "      <td>...</td>\n",
       "      <td>False</td>\n",
       "      <td>False</td>\n",
       "      <td>False</td>\n",
       "      <td>2.517696</td>\n",
       "      <td>2.151762</td>\n",
       "      <td>88.0</td>\n",
       "      <td>True</td>\n",
       "      <td>1.993339</td>\n",
       "      <td>105.0</td>\n",
       "      <td>other</td>\n",
       "    </tr>\n",
       "    <tr>\n",
       "      <th>3</th>\n",
       "      <td>77</td>\n",
       "      <td>Female</td>\n",
       "      <td>False</td>\n",
       "      <td>False</td>\n",
       "      <td>False</td>\n",
       "      <td>False</td>\n",
       "      <td>False</td>\n",
       "      <td>False</td>\n",
       "      <td>False</td>\n",
       "      <td>False</td>\n",
       "      <td>...</td>\n",
       "      <td>False</td>\n",
       "      <td>False</td>\n",
       "      <td>False</td>\n",
       "      <td>1.879465</td>\n",
       "      <td>2.186051</td>\n",
       "      <td>107.0</td>\n",
       "      <td>True</td>\n",
       "      <td>2.032088</td>\n",
       "      <td>95.0</td>\n",
       "      <td>other</td>\n",
       "    </tr>\n",
       "    <tr>\n",
       "      <th>4</th>\n",
       "      <td>51</td>\n",
       "      <td>Female</td>\n",
       "      <td>False</td>\n",
       "      <td>False</td>\n",
       "      <td>False</td>\n",
       "      <td>False</td>\n",
       "      <td>False</td>\n",
       "      <td>False</td>\n",
       "      <td>False</td>\n",
       "      <td>False</td>\n",
       "      <td>...</td>\n",
       "      <td>False</td>\n",
       "      <td>False</td>\n",
       "      <td>False</td>\n",
       "      <td>1.879465</td>\n",
       "      <td>2.151762</td>\n",
       "      <td>93.0</td>\n",
       "      <td>True</td>\n",
       "      <td>1.997418</td>\n",
       "      <td>106.0</td>\n",
       "      <td>SVI</td>\n",
       "    </tr>\n",
       "  </tbody>\n",
       "</table>\n",
       "<p>5 rows × 23 columns</p>\n",
       "</div>"
      ],
      "text/plain": [
       "   age     sex  on_thyroxine  query_on_thyroxine  on_antithyroid_meds   sick  \\\n",
       "0   36  Female         False               False                False  False   \n",
       "1   40  Female         False               False                False  False   \n",
       "2   40  Female         False               False                False  False   \n",
       "3   77  Female         False               False                False  False   \n",
       "4   51  Female         False               False                False  False   \n",
       "\n",
       "   pregnant  thyroid_surgery  I131_treatment  query_hypothyroid  ...  tumor  \\\n",
       "0     False            False           False               True  ...  False   \n",
       "1     False            False           False              False  ...  False   \n",
       "2     False            False           False              False  ...  False   \n",
       "3     False            False           False              False  ...  False   \n",
       "4     False            False           False              False  ...  False   \n",
       "\n",
       "   hypopituitary  psych       TSH        T3    TT4  T4U_measured       T4U  \\\n",
       "0          False  False  2.079442  2.186051   90.0          True  2.022871   \n",
       "1          False  False  2.041220  2.174752  104.0          True  2.025513   \n",
       "2          False  False  2.517696  2.151762   88.0          True  1.993339   \n",
       "3          False  False  1.879465  2.186051  107.0          True  2.032088   \n",
       "4          False  False  1.879465  2.151762   93.0          True  1.997418   \n",
       "\n",
       "     FTI  referral_source  \n",
       "0   85.0            other  \n",
       "1   96.0            other  \n",
       "2  105.0            other  \n",
       "3   95.0            other  \n",
       "4  106.0              SVI  \n",
       "\n",
       "[5 rows x 23 columns]"
      ]
     },
     "execution_count": 1,
     "metadata": {},
     "output_type": "execute_result"
    }
   ],
   "source": [
    "import pandas as pd\n",
    "import numpy as np\n",
    "from sklearn.model_selection import train_test_split, GridSearchCV, StratifiedKFold, validation_curve, learning_curve\n",
    "from sklearn.pipeline import Pipeline\n",
    "from sklearn.preprocessing import StandardScaler, OneHotEncoder\n",
    "from sklearn.compose import ColumnTransformer\n",
    "from sklearn.linear_model import LogisticRegression\n",
    "from sklearn.metrics import roc_auc_score, roc_curve\n",
    "import matplotlib.pyplot as plt\n",
    "\n",
    "# 1. Load Data\n",
    "df = pd.read_csv('data/cleanThyroidData.csv')\n",
    "\n",
    "# 2. Outcome variable and feature separation\n",
    "target_col = 'thyroid'\n",
    "X = df.drop(columns=target_col)\n",
    "y = df[target_col].astype(int)  # ensure binary 0/1\n",
    "\n",
    "# 3. Identify categorical and numeric features\n",
    "categorical_features = X.select_dtypes(include=['object', 'category']).columns.tolist()\n",
    "numeric_features = X.select_dtypes(include=[np.number, 'bool']).columns.tolist()\n",
    "\n",
    "# 4. Train/Test Split (stratified)\n",
    "X_train, X_test, y_train, y_test = train_test_split(\n",
    "    X, y, test_size=0.2, random_state=123456, stratify=y\n",
    ")\n",
    "\n",
    "X.head()"
   ]
  },
  {
   "cell_type": "code",
   "execution_count": 2,
   "id": "1120a73a",
   "metadata": {},
   "outputs": [
    {
     "name": "stdout",
     "output_type": "stream",
     "text": [
      "Best C: 0.06951927961775606\n",
      "Best CV ROC-AUC: 0.9660902963549685\n"
     ]
    }
   ],
   "source": [
    "# 5. Preprocessing Pipelines\n",
    "numeric_transformer = Pipeline([\n",
    "    ('scaler', StandardScaler())\n",
    "])\n",
    "categorical_transformer = Pipeline([\n",
    "    ('onehot', OneHotEncoder(handle_unknown='ignore', sparse_output=False))\n",
    "])\n",
    "preprocessor = ColumnTransformer(\n",
    "    transformers=[\n",
    "        ('num', numeric_transformer, numeric_features),\n",
    "        ('cat', categorical_transformer, categorical_features)\n",
    "    ]\n",
    ")\n",
    "\n",
    "# 6. Model Pipeline\n",
    "pipe = Pipeline([\n",
    "    ('preprocessor', preprocessor),\n",
    "    ('clf', LogisticRegression(penalty='l1', solver='saga', max_iter=5000, random_state=123456))\n",
    "])\n",
    "\n",
    "# 7. Hyperparameter grid and cross-validation\n",
    "param_grid = {\n",
    "    'clf__C': np.logspace(-3, 2, 20)\n",
    "}\n",
    "cv = StratifiedKFold(n_splits=5, shuffle=True, random_state=123456)\n",
    "grid = GridSearchCV(\n",
    "    pipe, param_grid, cv=cv, scoring='roc_auc', n_jobs=-1, return_train_score=True\n",
    ")\n",
    "grid.fit(X_train, y_train)\n",
    "\n",
    "# 8. Results: Best Parameter\n",
    "print(\"Best C:\", grid.best_params_['clf__C'])\n",
    "print(\"Best CV ROC-AUC:\", grid.best_score_)\n",
    "\n"
   ]
  },
  {
   "cell_type": "code",
   "execution_count": 3,
   "id": "4cf25f1f",
   "metadata": {},
   "outputs": [
    {
     "data": {
      "image/png": "[encoded data removed]",
      "text/plain": [
       "<Figure size 800x500 with 1 Axes>"
      ]
     },
     "metadata": {},
     "output_type": "display_data"
    }
   ],
   "source": [
    "# 9. Validation Curve (Train vs Test)\n",
    "train_scores, test_scores = validation_curve(\n",
    "    grid.best_estimator_, X_train, y_train,\n",
    "    param_name='clf__C',\n",
    "    param_range=param_grid['clf__C'],\n",
    "    cv=cv, scoring='roc_auc', n_jobs=-1\n",
    ")\n",
    "train_mean = train_scores.mean(axis=1)\n",
    "test_mean = test_scores.mean(axis=1)\n",
    "plt.figure(figsize=(8, 5))\n",
    "plt.semilogx(param_grid['clf__C'], train_mean, label='Train')\n",
    "plt.semilogx(param_grid['clf__C'], test_mean, label='Validation')\n",
    "plt.xlabel('C (Inverse Regularization Strength)')\n",
    "plt.ylabel('ROC-AUC')\n",
    "plt.title('Validation Curve')\n",
    "plt.legend()\n",
    "plt.tight_layout()\n",
    "plt.show()"
   ]
  },
  {
   "cell_type": "code",
   "execution_count": 4,
   "id": "119efc6f",
   "metadata": {},
   "outputs": [
    {
     "data": {
      "image/png": "[encoded data removed]",
      "text/plain": [
       "<Figure size 800x500 with 1 Axes>"
      ]
     },
     "metadata": {},
     "output_type": "display_data"
    }
   ],
   "source": [
    "# 10. Cross-validation score plot\n",
    "import pandas as pd\n",
    "results = pd.DataFrame(grid.cv_results_)\n",
    "plt.figure(figsize=(8, 5))\n",
    "plt.semilogx(results['param_clf__C'].astype(float), results['mean_test_score'], label='CV ROC-AUC')\n",
    "plt.xlabel('C')\n",
    "plt.ylabel('Mean CV ROC-AUC')\n",
    "plt.title('Grid Search Cross-Validation')\n",
    "plt.tight_layout()\n",
    "plt.show()"
   ]
  },
  {
   "cell_type": "code",
   "execution_count": 5,
   "id": "3233b231",
   "metadata": {},
   "outputs": [
    {
     "data": {
      "image/png": "[encoded data removed]",
      "text/plain": [
       "<Figure size 800x500 with 1 Axes>"
      ]
     },
     "metadata": {},
     "output_type": "display_data"
    }
   ],
   "source": [
    "# 11. Learning Curve\n",
    "train_sizes, train_scores_lc, test_scores_lc = learning_curve(\n",
    "    grid.best_estimator_, X_train, y_train,\n",
    "    train_sizes=np.linspace(0.1, 1.0, 8), cv=cv, scoring='roc_auc', n_jobs=-1\n",
    ")\n",
    "train_mean_lc = train_scores_lc.mean(axis=1)\n",
    "test_mean_lc = test_scores_lc.mean(axis=1)\n",
    "plt.figure(figsize=(8, 5))\n",
    "plt.plot(train_sizes, train_mean_lc, 'o-', label='Train ROC-AUC')\n",
    "plt.plot(train_sizes, test_mean_lc, 'o-', label='Validation ROC-AUC')\n",
    "plt.xlabel('Training set size')\n",
    "plt.ylabel('ROC-AUC')\n",
    "plt.title('Learning Curve')\n",
    "plt.legend()\n",
    "plt.tight_layout()\n",
    "plt.show()"
   ]
  },
  {
   "cell_type": "code",
   "execution_count": 6,
   "id": "322d39db",
   "metadata": {},
   "outputs": [
    {
     "name": "stdout",
     "output_type": "stream",
     "text": [
      "\n",
      "Total Selected Features: 13\n",
      "Total Not Selected Features: 15\n",
      "\n",
      "Features (with VARIMP):\n",
      "              feature      coef  abs_coef  rel_varimp\n",
      "                  TSH  2.156332  2.156332      100.00\n",
      "         on_thyroxine -1.023352  1.023352       47.46\n",
      "                   T3  0.743274  0.743274       34.47\n",
      "      thyroid_surgery -0.521671  0.521671       24.19\n",
      "                  FTI  0.375467  0.375467       17.41\n",
      "   query_hyperthyroid  0.260514  0.260514       12.08\n",
      "                  T4U -0.197118  0.197118        9.14\n",
      "referral_source_other  0.187412  0.187412        8.69\n",
      "                tumor  0.119215  0.119215        5.53\n",
      "                psych -0.074357  0.074357        3.45\n",
      "                  age  0.059956  0.059956        2.78\n",
      "             pregnant -0.058834  0.058834        2.73\n",
      "       I131_treatment -0.015526  0.015526        0.72\n",
      "   query_on_thyroxine  0.000000  0.000000        0.00\n",
      "                 sick  0.000000  0.000000        0.00\n",
      "               goitre  0.000000  0.000000        0.00\n",
      "    query_hypothyroid  0.000000  0.000000        0.00\n",
      "  on_antithyroid_meds  0.000000  0.000000        0.00\n",
      " referral_source_STMW  0.000000  0.000000        0.00\n",
      " referral_source_SVHC  0.000000  0.000000        0.00\n",
      "        hypopituitary  0.000000  0.000000        0.00\n",
      "         T4U_measured  0.000000  0.000000        0.00\n",
      "                  TT4  0.000000  0.000000        0.00\n",
      "              lithium  0.000000  0.000000        0.00\n",
      "           sex_Female  0.000000  0.000000        0.00\n",
      "             sex_male  0.000000  0.000000        0.00\n",
      " referral_source_SVHD  0.000000  0.000000        0.00\n",
      "  referral_source_SVI  0.000000  0.000000        0.00\n"
     ]
    }
   ],
   "source": [
    "# 12. Feature Selection: LASSO zero coefficients = dropped\n",
    "ohe = grid.best_estimator_.named_steps['preprocessor'].named_transformers_['cat'].named_steps['onehot']\n",
    "cat_names = ohe.get_feature_names_out(categorical_features) if categorical_features else []\n",
    "all_feature_names = numeric_features + list(cat_names)\n",
    "\n",
    "coefs = grid.best_estimator_.named_steps['clf'].coef_[0]\n",
    "feature_importance = pd.DataFrame({\n",
    "    'feature': all_feature_names,\n",
    "    'coef': coefs,\n",
    "    'abs_coef': np.abs(coefs),\n",
    "}).sort_values('coef', ascending=False)\n",
    "\n",
    "feature_importance['rel_varimp'] = (100 * feature_importance['abs_coef'] / feature_importance['abs_coef'].max()).round(2)\n",
    "feature_importance = feature_importance.sort_values('rel_varimp', ascending=False)\n",
    "\n",
    "selected_features = feature_importance[feature_importance['coef'] != 0]\n",
    "not_selected_features = feature_importance[feature_importance['coef'] == 0]\n",
    "\n",
    "print(\"\\nTotal Selected Features:\", len(selected_features))\n",
    "print(\"Total Not Selected Features:\", len(not_selected_features))\n",
    "\n",
    "print(\"\\nFeatures (with VARIMP):\")\n",
    "print(feature_importance[['feature', 'coef', 'abs_coef', 'rel_varimp']].to_string(index=False))\n"
   ]
  },
  {
   "cell_type": "code",
   "execution_count": 7,
   "id": "3c265f0a",
   "metadata": {},
   "outputs": [
    {
     "name": "stdout",
     "output_type": "stream",
     "text": [
      "\n",
      "Test ROC-AUC: 0.9788\n"
     ]
    },
    {
     "data": {
      "image/png": "[encoded data removed]",
      "text/plain": [
       "<Figure size 600x600 with 1 Axes>"
      ]
     },
     "metadata": {},
     "output_type": "display_data"
    }
   ],
   "source": [
    "# 13. Final Model Evaluation: ROC-AUC on Test\n",
    "y_pred_proba = grid.best_estimator_.predict_proba(X_test)[:, 1]\n",
    "roc_auc = roc_auc_score(y_test, y_pred_proba)\n",
    "print(f\"\\nTest ROC-AUC: {roc_auc:.4f}\")\n",
    "\n",
    "# 14. ROC Curve\n",
    "fpr, tpr, _ = roc_curve(y_test, y_pred_proba)\n",
    "plt.figure(figsize=(6, 6))\n",
    "plt.plot(fpr, tpr, label=f\"ROC-AUC: {roc_auc:.3f}\")\n",
    "plt.plot([0, 1], [0, 1], ls='--', c='gray')\n",
    "plt.xlabel(\"False Positive Rate\")\n",
    "plt.ylabel(\"True Positive Rate\")\n",
    "plt.title(\"Test ROC Curve\")\n",
    "plt.legend()\n",
    "plt.show()"
   ]
  },
  {
   "cell_type": "code",
   "execution_count": 8,
   "id": "df325fa3",
   "metadata": {},
   "outputs": [],
   "source": [
    "# 14. Drop features which has LASSO zero coefficients = dropped from from original dataframe 'df.\n",
    "# Map one-hot encoded feature names back to original columns for df selection\n",
    "# Only keep original columns that contributed to selected features\n",
    "\n",
    "# Extract original columns from selected one-hot encoded features\n",
    "selected_feature_names = selected_features['feature'].tolist()\n",
    "original_cols_to_keep = set()\n",
    "\n",
    "for feat in selected_feature_names:\n",
    "    # Check if feature is a one-hot encoded categorical\n",
    "    matched = False\n",
    "    for cat in categorical_features:\n",
    "        if feat.startswith(cat + \"_\"):\n",
    "            original_cols_to_keep.add(cat)\n",
    "            matched = True\n",
    "            break\n",
    "    if not matched and feat in df.columns:\n",
    "        original_cols_to_keep.add(feat)\n",
    "\n",
    "# Always keep the target column if present\n",
    "if target_col in df.columns:\n",
    "    original_cols_to_keep.add(target_col)\n",
    "\n",
    "df_featureselected = df[list(original_cols_to_keep)]\n",
    "df_featureselected.head()\n",
    "\n",
    "# Save the feature-selected DataFrame to a new CSV file\n",
    "df_featureselected.to_csv('data/thyroidData_Lasso_featureselected.csv', index=False)"
   ]
  }
 ],
 "metadata": {
  "kernelspec": {
   "display_name": "Python 3",
   "language": "python",
   "name": "python3"
  },
  "language_info": {
   "codemirror_mode": {
    "name": "ipython",
    "version": 3
   },
   "file_extension": ".py",
   "mimetype": "text/x-python",
   "name": "python",
   "nbconvert_exporter": "python",
   "pygments_lexer": "ipython3",
   "version": "3.11.5"
  }
 },
 "nbformat": 4,
 "nbformat_minor": 5
}
